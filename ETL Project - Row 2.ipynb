{
 "cells": [
  {
   "cell_type": "markdown",
   "metadata": {},
   "source": [
    "# ETL Project"
   ]
  },
  {
   "cell_type": "markdown",
   "metadata": {},
   "source": [
    "# 1. Dependencies"
   ]
  },
  {
   "cell_type": "code",
   "execution_count": 1,
   "metadata": {},
   "outputs": [],
   "source": [
    "import pandas as pd\n",
    "import numpy as np\n",
    "from matplotlib import pyplot as plt\n",
    "\n",
    "from splinter import Browser\n",
    "from bs4 import BeautifulSoup as bs\n",
    "import requests\n",
    "\n",
    "from sqlalchemy import create_engine\n",
    "from sqlalchemy.ext.declarative import declarative_base\n",
    "\n",
    "import pymongo"
   ]
  },
  {
   "cell_type": "code",
   "execution_count": 2,
   "metadata": {},
   "outputs": [
    {
     "name": "stdout",
     "output_type": "stream",
     "text": [
      "/usr/local/bin/chromedriver\r\n"
     ]
    }
   ],
   "source": [
    "# get chromedriver location\n",
    "!which chromedriver"
   ]
  },
  {
   "cell_type": "markdown",
   "metadata": {},
   "source": [
    "# 2. EXTRACT"
   ]
  },
  {
   "cell_type": "markdown",
   "metadata": {},
   "source": [
    "## 2.1 Visa Requirements for US Citizens -- web scraping `.html`"
   ]
  },
  {
   "cell_type": "code",
   "execution_count": 3,
   "metadata": {},
   "outputs": [],
   "source": [
    "# launch chromedriver -- get an empty page\n",
    "executable_path = {'executable_path': '/usr/local/bin/chromedriver'}\n",
    "browser = Browser('chrome', **executable_path, headless=False)"
   ]
  },
  {
   "cell_type": "code",
   "execution_count": 4,
   "metadata": {},
   "outputs": [],
   "source": [
    "url = \"https://en.wikipedia.org/wiki/Visa_requirements_for_United_States_citizens\"\n",
    "browser.visit(url)"
   ]
  },
  {
   "cell_type": "code",
   "execution_count": 5,
   "metadata": {},
   "outputs": [],
   "source": [
    "tables = pd.read_html(browser.html)\n",
    "visa_df = tables[0]\n",
    "browser.quit()"
   ]
  },
  {
   "cell_type": "code",
   "execution_count": 6,
   "metadata": {},
   "outputs": [
    {
     "data": {
      "text/html": [
       "<div>\n",
       "<style scoped>\n",
       "    .dataframe tbody tr th:only-of-type {\n",
       "        vertical-align: middle;\n",
       "    }\n",
       "\n",
       "    .dataframe tbody tr th {\n",
       "        vertical-align: top;\n",
       "    }\n",
       "\n",
       "    .dataframe thead th {\n",
       "        text-align: right;\n",
       "    }\n",
       "</style>\n",
       "<table border=\"1\" class=\"dataframe\">\n",
       "  <thead>\n",
       "    <tr style=\"text-align: right;\">\n",
       "      <th></th>\n",
       "      <th>Country</th>\n",
       "      <th>visa_requirement</th>\n",
       "      <th>notes</th>\n",
       "    </tr>\n",
       "  </thead>\n",
       "  <tbody>\n",
       "    <tr>\n",
       "      <th>0</th>\n",
       "      <td>Afghanistan</td>\n",
       "      <td>Visa required[2][3]</td>\n",
       "      <td>Visitors born in Afghanistan do not require a ...</td>\n",
       "    </tr>\n",
       "    <tr>\n",
       "      <th>1</th>\n",
       "      <td>Albania</td>\n",
       "      <td>Visa not required[5][6]</td>\n",
       "      <td>NaN</td>\n",
       "    </tr>\n",
       "    <tr>\n",
       "      <th>2</th>\n",
       "      <td>Algeria</td>\n",
       "      <td>Visa required[8][9]</td>\n",
       "      <td>Persons may be denied entry if entering with a...</td>\n",
       "    </tr>\n",
       "    <tr>\n",
       "      <th>3</th>\n",
       "      <td>Andorra</td>\n",
       "      <td>Visa not required[10]</td>\n",
       "      <td>NaN</td>\n",
       "    </tr>\n",
       "    <tr>\n",
       "      <th>4</th>\n",
       "      <td>Angola</td>\n",
       "      <td>eVisa[13][14][15]</td>\n",
       "      <td>Visitors who have been granted an online pre-v...</td>\n",
       "    </tr>\n",
       "  </tbody>\n",
       "</table>\n",
       "</div>"
      ],
      "text/plain": [
       "       Country         visa_requirement  \\\n",
       "0  Afghanistan      Visa required[2][3]   \n",
       "1      Albania  Visa not required[5][6]   \n",
       "2      Algeria      Visa required[8][9]   \n",
       "3      Andorra    Visa not required[10]   \n",
       "4       Angola        eVisa[13][14][15]   \n",
       "\n",
       "                                               notes  \n",
       "0  Visitors born in Afghanistan do not require a ...  \n",
       "1                                                NaN  \n",
       "2  Persons may be denied entry if entering with a...  \n",
       "3                                                NaN  \n",
       "4  Visitors who have been granted an online pre-v...  "
      ]
     },
     "execution_count": 6,
     "metadata": {},
     "output_type": "execute_result"
    }
   ],
   "source": [
    "# drop the unnecesary cols\n",
    "col_to_drop = ['Allowed stay']\n",
    "visa_df.drop(col_to_drop, axis = 1, inplace = True)\n",
    "\n",
    "# rename cols\n",
    "visa_df.rename(columns={'Country':'Country',\n",
    "                        \"Visa requirement\":'visa_requirement',\n",
    "                        \"Notes (excluding departure fees)\":'notes'},\n",
    "              inplace = True)\n",
    "visa_df.head()"
   ]
  },
  {
   "cell_type": "code",
   "execution_count": 7,
   "metadata": {},
   "outputs": [],
   "source": [
    "# clean up the citation marks\n",
    "for i in range(len(visa_df)):\n",
    "    visa_df.iloc[i,1] = visa_df.iloc[i,1].split('[')[0]"
   ]
  },
  {
   "cell_type": "code",
   "execution_count": 8,
   "metadata": {},
   "outputs": [
    {
     "data": {
      "text/plain": [
       "Visa not required                  107\n",
       "Visa required                       30\n",
       "Visa on arrival                     19\n",
       "eVisa / Visa on arrival             18\n",
       "eVisa                               11\n",
       "Electronic Travel Authority          1\n",
       "Online Visa                          1\n",
       "eVisa / Tourist card on arrival      1\n",
       "Visitor's Permit on arrival          1\n",
       "Tourist Card required                1\n",
       "Travel restricted                    1\n",
       "Entry Permit on arrival              1\n",
       "Visitor's permit on arrival          1\n",
       "Name: visa_requirement, dtype: int64"
      ]
     },
     "execution_count": 8,
     "metadata": {},
     "output_type": "execute_result"
    }
   ],
   "source": [
    "visa_df['visa_requirement'].value_counts()"
   ]
  },
  {
   "cell_type": "code",
   "execution_count": 9,
   "metadata": {},
   "outputs": [],
   "source": [
    "auto_visa_key_words = [\"on arrival\", 'eVisa', 'Electronic', 'Online']\n",
    "restrict_list = [\"Tourist Card required\", \"Travel restricted\"]\n",
    "\n",
    "for i in range(len(visa_df)):\n",
    "    for word in auto_visa_key_words:\n",
    "        if word in visa_df['visa_requirement'][i]:\n",
    "            visa_df['visa_requirement'][i] = \"eVisa/Visa on arrival\"\n",
    "            continue\n",
    "    if visa_df['visa_requirement'][i] in restrict_list:\n",
    "        visa_df['visa_requirement'][i] = \"Travel restricted\""
   ]
  },
  {
   "cell_type": "code",
   "execution_count": 10,
   "metadata": {},
   "outputs": [
    {
     "data": {
      "text/plain": [
       "Visa not required        107\n",
       "eVisa/Visa on arrival     54\n",
       "Visa required             30\n",
       "Travel restricted          2\n",
       "Name: visa_requirement, dtype: int64"
      ]
     },
     "execution_count": 10,
     "metadata": {},
     "output_type": "execute_result"
    }
   ],
   "source": [
    "visa_df['visa_requirement'].value_counts()"
   ]
  },
  {
   "cell_type": "code",
   "execution_count": 11,
   "metadata": {},
   "outputs": [
    {
     "data": {
      "text/html": [
       "<div>\n",
       "<style scoped>\n",
       "    .dataframe tbody tr th:only-of-type {\n",
       "        vertical-align: middle;\n",
       "    }\n",
       "\n",
       "    .dataframe tbody tr th {\n",
       "        vertical-align: top;\n",
       "    }\n",
       "\n",
       "    .dataframe thead th {\n",
       "        text-align: right;\n",
       "    }\n",
       "</style>\n",
       "<table border=\"1\" class=\"dataframe\">\n",
       "  <thead>\n",
       "    <tr style=\"text-align: right;\">\n",
       "      <th></th>\n",
       "      <th>visa_requirement</th>\n",
       "      <th>notes</th>\n",
       "    </tr>\n",
       "    <tr>\n",
       "      <th>Country</th>\n",
       "      <th></th>\n",
       "      <th></th>\n",
       "    </tr>\n",
       "  </thead>\n",
       "  <tbody>\n",
       "    <tr>\n",
       "      <th>Afghanistan</th>\n",
       "      <td>Visa required</td>\n",
       "      <td>Visitors born in Afghanistan do not require a ...</td>\n",
       "    </tr>\n",
       "    <tr>\n",
       "      <th>Albania</th>\n",
       "      <td>Visa not required</td>\n",
       "      <td>NaN</td>\n",
       "    </tr>\n",
       "    <tr>\n",
       "      <th>Algeria</th>\n",
       "      <td>Visa required</td>\n",
       "      <td>Persons may be denied entry if entering with a...</td>\n",
       "    </tr>\n",
       "    <tr>\n",
       "      <th>Andorra</th>\n",
       "      <td>Visa not required</td>\n",
       "      <td>NaN</td>\n",
       "    </tr>\n",
       "    <tr>\n",
       "      <th>Angola</th>\n",
       "      <td>eVisa/Visa on arrival</td>\n",
       "      <td>Visitors who have been granted an online pre-v...</td>\n",
       "    </tr>\n",
       "  </tbody>\n",
       "</table>\n",
       "</div>"
      ],
      "text/plain": [
       "                  visa_requirement  \\\n",
       "Country                              \n",
       "Afghanistan          Visa required   \n",
       "Albania          Visa not required   \n",
       "Algeria              Visa required   \n",
       "Andorra          Visa not required   \n",
       "Angola       eVisa/Visa on arrival   \n",
       "\n",
       "                                                         notes  \n",
       "Country                                                         \n",
       "Afghanistan  Visitors born in Afghanistan do not require a ...  \n",
       "Albania                                                    NaN  \n",
       "Algeria      Persons may be denied entry if entering with a...  \n",
       "Andorra                                                    NaN  \n",
       "Angola       Visitors who have been granted an online pre-v...  "
      ]
     },
     "execution_count": 11,
     "metadata": {},
     "output_type": "execute_result"
    }
   ],
   "source": [
    "visa_df.set_index('Country',drop=True, inplace=True)\n",
    "visa_df.head()"
   ]
  },
  {
   "cell_type": "markdown",
   "metadata": {},
   "source": [
    "## 2.2 GDP by Country -- from `.csv` file"
   ]
  },
  {
   "cell_type": "code",
   "execution_count": 12,
   "metadata": {},
   "outputs": [
    {
     "data": {
      "text/html": [
       "<div>\n",
       "<style scoped>\n",
       "    .dataframe tbody tr th:only-of-type {\n",
       "        vertical-align: middle;\n",
       "    }\n",
       "\n",
       "    .dataframe tbody tr th {\n",
       "        vertical-align: top;\n",
       "    }\n",
       "\n",
       "    .dataframe thead th {\n",
       "        text-align: right;\n",
       "    }\n",
       "</style>\n",
       "<table border=\"1\" class=\"dataframe\">\n",
       "  <thead>\n",
       "    <tr style=\"text-align: right;\">\n",
       "      <th></th>\n",
       "      <th>Country Name</th>\n",
       "      <th>Country Code</th>\n",
       "      <th>Indicator Name</th>\n",
       "      <th>Indicator Code</th>\n",
       "      <th>1960</th>\n",
       "      <th>1961</th>\n",
       "      <th>1962</th>\n",
       "      <th>1963</th>\n",
       "      <th>1964</th>\n",
       "      <th>1965</th>\n",
       "      <th>...</th>\n",
       "      <th>2009</th>\n",
       "      <th>2010</th>\n",
       "      <th>2011</th>\n",
       "      <th>2012</th>\n",
       "      <th>2013</th>\n",
       "      <th>2014</th>\n",
       "      <th>2015</th>\n",
       "      <th>2016</th>\n",
       "      <th>2017</th>\n",
       "      <th>2018</th>\n",
       "    </tr>\n",
       "  </thead>\n",
       "  <tbody>\n",
       "    <tr>\n",
       "      <th>0</th>\n",
       "      <td>Aruba</td>\n",
       "      <td>ABW</td>\n",
       "      <td>GDP (current US$)</td>\n",
       "      <td>NY.GDP.MKTP.CD</td>\n",
       "      <td>NaN</td>\n",
       "      <td>NaN</td>\n",
       "      <td>NaN</td>\n",
       "      <td>NaN</td>\n",
       "      <td>NaN</td>\n",
       "      <td>NaN</td>\n",
       "      <td>...</td>\n",
       "      <td>2.498883e+09</td>\n",
       "      <td>2.390503e+09</td>\n",
       "      <td>2.549721e+09</td>\n",
       "      <td>2.534637e+09</td>\n",
       "      <td>2.581564e+09</td>\n",
       "      <td>2.649721e+09</td>\n",
       "      <td>2.691620e+09</td>\n",
       "      <td>2.646927e+09</td>\n",
       "      <td>2.700559e+09</td>\n",
       "      <td>NaN</td>\n",
       "    </tr>\n",
       "    <tr>\n",
       "      <th>1</th>\n",
       "      <td>Afghanistan</td>\n",
       "      <td>AFG</td>\n",
       "      <td>GDP (current US$)</td>\n",
       "      <td>NY.GDP.MKTP.CD</td>\n",
       "      <td>537777811.1</td>\n",
       "      <td>548888895.6</td>\n",
       "      <td>546666677.8</td>\n",
       "      <td>751111191.1</td>\n",
       "      <td>800000044.4</td>\n",
       "      <td>1.006667e+09</td>\n",
       "      <td>...</td>\n",
       "      <td>1.243909e+10</td>\n",
       "      <td>1.585657e+10</td>\n",
       "      <td>1.780428e+10</td>\n",
       "      <td>2.000162e+10</td>\n",
       "      <td>2.056105e+10</td>\n",
       "      <td>2.048487e+10</td>\n",
       "      <td>1.990711e+10</td>\n",
       "      <td>1.936264e+10</td>\n",
       "      <td>2.019176e+10</td>\n",
       "      <td>1.936297e+10</td>\n",
       "    </tr>\n",
       "    <tr>\n",
       "      <th>2</th>\n",
       "      <td>Angola</td>\n",
       "      <td>AGO</td>\n",
       "      <td>GDP (current US$)</td>\n",
       "      <td>NY.GDP.MKTP.CD</td>\n",
       "      <td>NaN</td>\n",
       "      <td>NaN</td>\n",
       "      <td>NaN</td>\n",
       "      <td>NaN</td>\n",
       "      <td>NaN</td>\n",
       "      <td>NaN</td>\n",
       "      <td>...</td>\n",
       "      <td>7.030716e+10</td>\n",
       "      <td>8.379950e+10</td>\n",
       "      <td>1.117900e+11</td>\n",
       "      <td>1.280530e+11</td>\n",
       "      <td>1.367100e+11</td>\n",
       "      <td>1.457120e+11</td>\n",
       "      <td>1.161940e+11</td>\n",
       "      <td>1.011240e+11</td>\n",
       "      <td>1.221240e+11</td>\n",
       "      <td>1.057510e+11</td>\n",
       "    </tr>\n",
       "    <tr>\n",
       "      <th>3</th>\n",
       "      <td>Albania</td>\n",
       "      <td>ALB</td>\n",
       "      <td>GDP (current US$)</td>\n",
       "      <td>NY.GDP.MKTP.CD</td>\n",
       "      <td>NaN</td>\n",
       "      <td>NaN</td>\n",
       "      <td>NaN</td>\n",
       "      <td>NaN</td>\n",
       "      <td>NaN</td>\n",
       "      <td>NaN</td>\n",
       "      <td>...</td>\n",
       "      <td>1.204421e+10</td>\n",
       "      <td>1.192695e+10</td>\n",
       "      <td>1.289087e+10</td>\n",
       "      <td>1.231978e+10</td>\n",
       "      <td>1.277628e+10</td>\n",
       "      <td>1.322825e+10</td>\n",
       "      <td>1.138693e+10</td>\n",
       "      <td>1.186135e+10</td>\n",
       "      <td>1.302506e+10</td>\n",
       "      <td>1.505888e+10</td>\n",
       "    </tr>\n",
       "    <tr>\n",
       "      <th>4</th>\n",
       "      <td>Andorra</td>\n",
       "      <td>AND</td>\n",
       "      <td>GDP (current US$)</td>\n",
       "      <td>NY.GDP.MKTP.CD</td>\n",
       "      <td>NaN</td>\n",
       "      <td>NaN</td>\n",
       "      <td>NaN</td>\n",
       "      <td>NaN</td>\n",
       "      <td>NaN</td>\n",
       "      <td>NaN</td>\n",
       "      <td>...</td>\n",
       "      <td>3.660531e+09</td>\n",
       "      <td>3.355695e+09</td>\n",
       "      <td>3.442063e+09</td>\n",
       "      <td>3.164615e+09</td>\n",
       "      <td>3.281585e+09</td>\n",
       "      <td>3.350736e+09</td>\n",
       "      <td>2.811489e+09</td>\n",
       "      <td>2.877312e+09</td>\n",
       "      <td>3.013387e+09</td>\n",
       "      <td>3.236544e+09</td>\n",
       "    </tr>\n",
       "  </tbody>\n",
       "</table>\n",
       "<p>5 rows × 63 columns</p>\n",
       "</div>"
      ],
      "text/plain": [
       "  Country Name Country Code     Indicator Name  Indicator Code         1960  \\\n",
       "0        Aruba          ABW  GDP (current US$)  NY.GDP.MKTP.CD          NaN   \n",
       "1  Afghanistan          AFG  GDP (current US$)  NY.GDP.MKTP.CD  537777811.1   \n",
       "2       Angola          AGO  GDP (current US$)  NY.GDP.MKTP.CD          NaN   \n",
       "3      Albania          ALB  GDP (current US$)  NY.GDP.MKTP.CD          NaN   \n",
       "4      Andorra          AND  GDP (current US$)  NY.GDP.MKTP.CD          NaN   \n",
       "\n",
       "          1961         1962         1963         1964          1965  ...  \\\n",
       "0          NaN          NaN          NaN          NaN           NaN  ...   \n",
       "1  548888895.6  546666677.8  751111191.1  800000044.4  1.006667e+09  ...   \n",
       "2          NaN          NaN          NaN          NaN           NaN  ...   \n",
       "3          NaN          NaN          NaN          NaN           NaN  ...   \n",
       "4          NaN          NaN          NaN          NaN           NaN  ...   \n",
       "\n",
       "           2009          2010          2011          2012          2013  \\\n",
       "0  2.498883e+09  2.390503e+09  2.549721e+09  2.534637e+09  2.581564e+09   \n",
       "1  1.243909e+10  1.585657e+10  1.780428e+10  2.000162e+10  2.056105e+10   \n",
       "2  7.030716e+10  8.379950e+10  1.117900e+11  1.280530e+11  1.367100e+11   \n",
       "3  1.204421e+10  1.192695e+10  1.289087e+10  1.231978e+10  1.277628e+10   \n",
       "4  3.660531e+09  3.355695e+09  3.442063e+09  3.164615e+09  3.281585e+09   \n",
       "\n",
       "           2014          2015          2016          2017          2018  \n",
       "0  2.649721e+09  2.691620e+09  2.646927e+09  2.700559e+09           NaN  \n",
       "1  2.048487e+10  1.990711e+10  1.936264e+10  2.019176e+10  1.936297e+10  \n",
       "2  1.457120e+11  1.161940e+11  1.011240e+11  1.221240e+11  1.057510e+11  \n",
       "3  1.322825e+10  1.138693e+10  1.186135e+10  1.302506e+10  1.505888e+10  \n",
       "4  3.350736e+09  2.811489e+09  2.877312e+09  3.013387e+09  3.236544e+09  \n",
       "\n",
       "[5 rows x 63 columns]"
      ]
     },
     "execution_count": 12,
     "metadata": {},
     "output_type": "execute_result"
    }
   ],
   "source": [
    "# The CSV file is in the resources directory\n",
    "# The source website is https://data.worldbank.org/indicator/ny.gdp.mktp.cd\n",
    "gdp_filename = \"resources/GDP_by_country.csv\"\n",
    "gdp_df = pd.read_csv(gdp_filename)\n",
    "gdp_df.head()"
   ]
  },
  {
   "cell_type": "code",
   "execution_count": 13,
   "metadata": {},
   "outputs": [
    {
     "data": {
      "text/html": [
       "<div>\n",
       "<style scoped>\n",
       "    .dataframe tbody tr th:only-of-type {\n",
       "        vertical-align: middle;\n",
       "    }\n",
       "\n",
       "    .dataframe tbody tr th {\n",
       "        vertical-align: top;\n",
       "    }\n",
       "\n",
       "    .dataframe thead th {\n",
       "        text-align: right;\n",
       "    }\n",
       "</style>\n",
       "<table border=\"1\" class=\"dataframe\">\n",
       "  <thead>\n",
       "    <tr style=\"text-align: right;\">\n",
       "      <th></th>\n",
       "      <th>Country Name</th>\n",
       "      <th>1960</th>\n",
       "      <th>1961</th>\n",
       "      <th>1962</th>\n",
       "      <th>1963</th>\n",
       "      <th>1964</th>\n",
       "      <th>1965</th>\n",
       "      <th>1966</th>\n",
       "      <th>1967</th>\n",
       "      <th>1968</th>\n",
       "      <th>...</th>\n",
       "      <th>2009</th>\n",
       "      <th>2010</th>\n",
       "      <th>2011</th>\n",
       "      <th>2012</th>\n",
       "      <th>2013</th>\n",
       "      <th>2014</th>\n",
       "      <th>2015</th>\n",
       "      <th>2016</th>\n",
       "      <th>2017</th>\n",
       "      <th>2018</th>\n",
       "    </tr>\n",
       "  </thead>\n",
       "  <tbody>\n",
       "    <tr>\n",
       "      <th>0</th>\n",
       "      <td>Aruba</td>\n",
       "      <td>NaN</td>\n",
       "      <td>NaN</td>\n",
       "      <td>NaN</td>\n",
       "      <td>NaN</td>\n",
       "      <td>NaN</td>\n",
       "      <td>NaN</td>\n",
       "      <td>NaN</td>\n",
       "      <td>NaN</td>\n",
       "      <td>NaN</td>\n",
       "      <td>...</td>\n",
       "      <td>2.498883e+09</td>\n",
       "      <td>2.390503e+09</td>\n",
       "      <td>2.549721e+09</td>\n",
       "      <td>2.534637e+09</td>\n",
       "      <td>2.581564e+09</td>\n",
       "      <td>2.649721e+09</td>\n",
       "      <td>2.691620e+09</td>\n",
       "      <td>2.646927e+09</td>\n",
       "      <td>2.700559e+09</td>\n",
       "      <td>NaN</td>\n",
       "    </tr>\n",
       "    <tr>\n",
       "      <th>1</th>\n",
       "      <td>Afghanistan</td>\n",
       "      <td>537777811.1</td>\n",
       "      <td>548888895.6</td>\n",
       "      <td>546666677.8</td>\n",
       "      <td>751111191.1</td>\n",
       "      <td>800000044.4</td>\n",
       "      <td>1.006667e+09</td>\n",
       "      <td>1.400000e+09</td>\n",
       "      <td>1.673333e+09</td>\n",
       "      <td>1.373333e+09</td>\n",
       "      <td>...</td>\n",
       "      <td>1.243909e+10</td>\n",
       "      <td>1.585657e+10</td>\n",
       "      <td>1.780428e+10</td>\n",
       "      <td>2.000162e+10</td>\n",
       "      <td>2.056105e+10</td>\n",
       "      <td>2.048487e+10</td>\n",
       "      <td>1.990711e+10</td>\n",
       "      <td>1.936264e+10</td>\n",
       "      <td>2.019176e+10</td>\n",
       "      <td>1.936297e+10</td>\n",
       "    </tr>\n",
       "    <tr>\n",
       "      <th>2</th>\n",
       "      <td>Angola</td>\n",
       "      <td>NaN</td>\n",
       "      <td>NaN</td>\n",
       "      <td>NaN</td>\n",
       "      <td>NaN</td>\n",
       "      <td>NaN</td>\n",
       "      <td>NaN</td>\n",
       "      <td>NaN</td>\n",
       "      <td>NaN</td>\n",
       "      <td>NaN</td>\n",
       "      <td>...</td>\n",
       "      <td>7.030716e+10</td>\n",
       "      <td>8.379950e+10</td>\n",
       "      <td>1.117900e+11</td>\n",
       "      <td>1.280530e+11</td>\n",
       "      <td>1.367100e+11</td>\n",
       "      <td>1.457120e+11</td>\n",
       "      <td>1.161940e+11</td>\n",
       "      <td>1.011240e+11</td>\n",
       "      <td>1.221240e+11</td>\n",
       "      <td>1.057510e+11</td>\n",
       "    </tr>\n",
       "    <tr>\n",
       "      <th>3</th>\n",
       "      <td>Albania</td>\n",
       "      <td>NaN</td>\n",
       "      <td>NaN</td>\n",
       "      <td>NaN</td>\n",
       "      <td>NaN</td>\n",
       "      <td>NaN</td>\n",
       "      <td>NaN</td>\n",
       "      <td>NaN</td>\n",
       "      <td>NaN</td>\n",
       "      <td>NaN</td>\n",
       "      <td>...</td>\n",
       "      <td>1.204421e+10</td>\n",
       "      <td>1.192695e+10</td>\n",
       "      <td>1.289087e+10</td>\n",
       "      <td>1.231978e+10</td>\n",
       "      <td>1.277628e+10</td>\n",
       "      <td>1.322825e+10</td>\n",
       "      <td>1.138693e+10</td>\n",
       "      <td>1.186135e+10</td>\n",
       "      <td>1.302506e+10</td>\n",
       "      <td>1.505888e+10</td>\n",
       "    </tr>\n",
       "    <tr>\n",
       "      <th>4</th>\n",
       "      <td>Andorra</td>\n",
       "      <td>NaN</td>\n",
       "      <td>NaN</td>\n",
       "      <td>NaN</td>\n",
       "      <td>NaN</td>\n",
       "      <td>NaN</td>\n",
       "      <td>NaN</td>\n",
       "      <td>NaN</td>\n",
       "      <td>NaN</td>\n",
       "      <td>NaN</td>\n",
       "      <td>...</td>\n",
       "      <td>3.660531e+09</td>\n",
       "      <td>3.355695e+09</td>\n",
       "      <td>3.442063e+09</td>\n",
       "      <td>3.164615e+09</td>\n",
       "      <td>3.281585e+09</td>\n",
       "      <td>3.350736e+09</td>\n",
       "      <td>2.811489e+09</td>\n",
       "      <td>2.877312e+09</td>\n",
       "      <td>3.013387e+09</td>\n",
       "      <td>3.236544e+09</td>\n",
       "    </tr>\n",
       "  </tbody>\n",
       "</table>\n",
       "<p>5 rows × 60 columns</p>\n",
       "</div>"
      ],
      "text/plain": [
       "  Country Name         1960         1961         1962         1963  \\\n",
       "0        Aruba          NaN          NaN          NaN          NaN   \n",
       "1  Afghanistan  537777811.1  548888895.6  546666677.8  751111191.1   \n",
       "2       Angola          NaN          NaN          NaN          NaN   \n",
       "3      Albania          NaN          NaN          NaN          NaN   \n",
       "4      Andorra          NaN          NaN          NaN          NaN   \n",
       "\n",
       "          1964          1965          1966          1967          1968  ...  \\\n",
       "0          NaN           NaN           NaN           NaN           NaN  ...   \n",
       "1  800000044.4  1.006667e+09  1.400000e+09  1.673333e+09  1.373333e+09  ...   \n",
       "2          NaN           NaN           NaN           NaN           NaN  ...   \n",
       "3          NaN           NaN           NaN           NaN           NaN  ...   \n",
       "4          NaN           NaN           NaN           NaN           NaN  ...   \n",
       "\n",
       "           2009          2010          2011          2012          2013  \\\n",
       "0  2.498883e+09  2.390503e+09  2.549721e+09  2.534637e+09  2.581564e+09   \n",
       "1  1.243909e+10  1.585657e+10  1.780428e+10  2.000162e+10  2.056105e+10   \n",
       "2  7.030716e+10  8.379950e+10  1.117900e+11  1.280530e+11  1.367100e+11   \n",
       "3  1.204421e+10  1.192695e+10  1.289087e+10  1.231978e+10  1.277628e+10   \n",
       "4  3.660531e+09  3.355695e+09  3.442063e+09  3.164615e+09  3.281585e+09   \n",
       "\n",
       "           2014          2015          2016          2017          2018  \n",
       "0  2.649721e+09  2.691620e+09  2.646927e+09  2.700559e+09           NaN  \n",
       "1  2.048487e+10  1.990711e+10  1.936264e+10  2.019176e+10  1.936297e+10  \n",
       "2  1.457120e+11  1.161940e+11  1.011240e+11  1.221240e+11  1.057510e+11  \n",
       "3  1.322825e+10  1.138693e+10  1.186135e+10  1.302506e+10  1.505888e+10  \n",
       "4  3.350736e+09  2.811489e+09  2.877312e+09  3.013387e+09  3.236544e+09  \n",
       "\n",
       "[5 rows x 60 columns]"
      ]
     },
     "execution_count": 13,
     "metadata": {},
     "output_type": "execute_result"
    }
   ],
   "source": [
    "gdp_df.drop(columns=[\"Country Code\",\"Indicator Name\",\"Indicator Code\"], inplace=True)\n",
    "gdp_df.head()"
   ]
  },
  {
   "cell_type": "code",
   "execution_count": 14,
   "metadata": {},
   "outputs": [
    {
     "data": {
      "text/html": [
       "<div>\n",
       "<style scoped>\n",
       "    .dataframe tbody tr th:only-of-type {\n",
       "        vertical-align: middle;\n",
       "    }\n",
       "\n",
       "    .dataframe tbody tr th {\n",
       "        vertical-align: top;\n",
       "    }\n",
       "\n",
       "    .dataframe thead th {\n",
       "        text-align: right;\n",
       "    }\n",
       "</style>\n",
       "<table border=\"1\" class=\"dataframe\">\n",
       "  <thead>\n",
       "    <tr style=\"text-align: right;\">\n",
       "      <th></th>\n",
       "      <th>GDP 2018</th>\n",
       "    </tr>\n",
       "    <tr>\n",
       "      <th>Country</th>\n",
       "      <th></th>\n",
       "    </tr>\n",
       "  </thead>\n",
       "  <tbody>\n",
       "    <tr>\n",
       "      <th>Afghanistan</th>\n",
       "      <td>1.936297e+10</td>\n",
       "    </tr>\n",
       "    <tr>\n",
       "      <th>Angola</th>\n",
       "      <td>1.057510e+11</td>\n",
       "    </tr>\n",
       "    <tr>\n",
       "      <th>Albania</th>\n",
       "      <td>1.505888e+10</td>\n",
       "    </tr>\n",
       "    <tr>\n",
       "      <th>Andorra</th>\n",
       "      <td>3.236544e+09</td>\n",
       "    </tr>\n",
       "    <tr>\n",
       "      <th>Arab World</th>\n",
       "      <td>2.781330e+12</td>\n",
       "    </tr>\n",
       "  </tbody>\n",
       "</table>\n",
       "</div>"
      ],
      "text/plain": [
       "                 GDP 2018\n",
       "Country                  \n",
       "Afghanistan  1.936297e+10\n",
       "Angola       1.057510e+11\n",
       "Albania      1.505888e+10\n",
       "Andorra      3.236544e+09\n",
       "Arab World   2.781330e+12"
      ]
     },
     "execution_count": 14,
     "metadata": {},
     "output_type": "execute_result"
    }
   ],
   "source": [
    "years = np.arange(1960,2018)\n",
    "years_str = [str(yy) for yy in years]\n",
    "gdp_df.drop(columns=years_str, inplace=True)\n",
    "gdp_df.dropna(inplace=True)\n",
    "gdp_df.rename(columns={\"Country Name\": \"Country\", \"2018\":\"GDP 2018\"}, inplace=True)\n",
    "gdp_df.set_index(\"Country\", inplace=True)\n",
    "gdp_df.head()"
   ]
  },
  {
   "cell_type": "markdown",
   "metadata": {},
   "source": [
    "## 2.3 Top 100 Tourist Destinations Worldwide -- web scraping Brilliant Maps `.html` "
   ]
  },
  {
   "cell_type": "code",
   "execution_count": 15,
   "metadata": {
    "scrolled": true
   },
   "outputs": [],
   "source": [
    "# URL of page to be scraped\n",
    "url = \"https://brilliantmaps.com/top-100-tourist-destinations/\"\n",
    "\n",
    "# Retrieve page\n",
    "response = requests.get(url)\n",
    "\n",
    "# Create BeautifulSoup object; parse with 'html.parser'\n",
    "soup = bs(response.text, 'html.parser')\n",
    "\n",
    "# Examine the results, then determine element that contains sought info\n",
    "# print(soup.prettify())"
   ]
  },
  {
   "cell_type": "code",
   "execution_count": 16,
   "metadata": {},
   "outputs": [
    {
     "data": {
      "text/html": [
       "<div>\n",
       "<style scoped>\n",
       "    .dataframe tbody tr th:only-of-type {\n",
       "        vertical-align: middle;\n",
       "    }\n",
       "\n",
       "    .dataframe tbody tr th {\n",
       "        vertical-align: top;\n",
       "    }\n",
       "\n",
       "    .dataframe thead th {\n",
       "        text-align: right;\n",
       "    }\n",
       "</style>\n",
       "<table border=\"1\" class=\"dataframe\">\n",
       "  <thead>\n",
       "    <tr style=\"text-align: right;\">\n",
       "      <th></th>\n",
       "      <th>Rank</th>\n",
       "      <th>City</th>\n",
       "      <th>Country</th>\n",
       "      <th>Tourists (Millions)</th>\n",
       "    </tr>\n",
       "  </thead>\n",
       "  <tbody>\n",
       "    <tr>\n",
       "      <th>0</th>\n",
       "      <td>1</td>\n",
       "      <td>Hong Kong</td>\n",
       "      <td>Hong Kong</td>\n",
       "      <td>23.7</td>\n",
       "    </tr>\n",
       "    <tr>\n",
       "      <th>1</th>\n",
       "      <td>2</td>\n",
       "      <td>Singapore</td>\n",
       "      <td>Singapore</td>\n",
       "      <td>21.3</td>\n",
       "    </tr>\n",
       "    <tr>\n",
       "      <th>2</th>\n",
       "      <td>3</td>\n",
       "      <td>Bangkok</td>\n",
       "      <td>Thailand</td>\n",
       "      <td>15.8</td>\n",
       "    </tr>\n",
       "    <tr>\n",
       "      <th>3</th>\n",
       "      <td>4</td>\n",
       "      <td>London</td>\n",
       "      <td>UK</td>\n",
       "      <td>15.5</td>\n",
       "    </tr>\n",
       "    <tr>\n",
       "      <th>4</th>\n",
       "      <td>5</td>\n",
       "      <td>Macau</td>\n",
       "      <td>Macau</td>\n",
       "      <td>13.4</td>\n",
       "    </tr>\n",
       "  </tbody>\n",
       "</table>\n",
       "</div>"
      ],
      "text/plain": [
       "   Rank       City    Country  Tourists (Millions)\n",
       "0     1  Hong Kong  Hong Kong                 23.7\n",
       "1     2  Singapore  Singapore                 21.3\n",
       "2     3    Bangkok   Thailand                 15.8\n",
       "3     4     London         UK                 15.5\n",
       "4     5      Macau      Macau                 13.4"
      ]
     },
     "execution_count": 16,
     "metadata": {},
     "output_type": "execute_result"
    }
   ],
   "source": [
    "# Get the Top Destinations table, show the top 20 destinations\n",
    "destinations = pd.read_html(response.text)\n",
    "top_destinations=destinations[0]\n",
    "top_destinations.head(5)"
   ]
  },
  {
   "cell_type": "code",
   "execution_count": 17,
   "metadata": {},
   "outputs": [
    {
     "data": {
      "text/html": [
       "<div>\n",
       "<style scoped>\n",
       "    .dataframe tbody tr th:only-of-type {\n",
       "        vertical-align: middle;\n",
       "    }\n",
       "\n",
       "    .dataframe tbody tr th {\n",
       "        vertical-align: top;\n",
       "    }\n",
       "\n",
       "    .dataframe thead th {\n",
       "        text-align: right;\n",
       "    }\n",
       "</style>\n",
       "<table border=\"1\" class=\"dataframe\">\n",
       "  <thead>\n",
       "    <tr style=\"text-align: right;\">\n",
       "      <th></th>\n",
       "      <th>city</th>\n",
       "      <th>tourists_mm</th>\n",
       "    </tr>\n",
       "    <tr>\n",
       "      <th>Country</th>\n",
       "      <th></th>\n",
       "      <th></th>\n",
       "    </tr>\n",
       "  </thead>\n",
       "  <tbody>\n",
       "    <tr>\n",
       "      <th>Hong Kong</th>\n",
       "      <td>Hong Kong</td>\n",
       "      <td>23.7</td>\n",
       "    </tr>\n",
       "    <tr>\n",
       "      <th>Singapore</th>\n",
       "      <td>Singapore</td>\n",
       "      <td>21.3</td>\n",
       "    </tr>\n",
       "    <tr>\n",
       "      <th>Thailand</th>\n",
       "      <td>Bangkok</td>\n",
       "      <td>15.8</td>\n",
       "    </tr>\n",
       "    <tr>\n",
       "      <th>UK</th>\n",
       "      <td>London</td>\n",
       "      <td>15.5</td>\n",
       "    </tr>\n",
       "    <tr>\n",
       "      <th>Macau</th>\n",
       "      <td>Macau</td>\n",
       "      <td>13.4</td>\n",
       "    </tr>\n",
       "  </tbody>\n",
       "</table>\n",
       "</div>"
      ],
      "text/plain": [
       "                city  tourists_mm\n",
       "Country                          \n",
       "Hong Kong  Hong Kong         23.7\n",
       "Singapore  Singapore         21.3\n",
       "Thailand     Bangkok         15.8\n",
       "UK            London         15.5\n",
       "Macau          Macau         13.4"
      ]
     },
     "execution_count": 17,
     "metadata": {},
     "output_type": "execute_result"
    }
   ],
   "source": [
    "del top_destinations['Rank']\n",
    "top_destinations.rename(columns={\"City\":\"city\",\"Tourists (Millions)\":\"tourists_mm\"}, inplace=True)\n",
    "top_destinations.set_index('Country', inplace = True)\n",
    "top_destinations.head()"
   ]
  },
  {
   "cell_type": "raw",
   "metadata": {},
   "source": [
    "# Note that some countries have more than one city in the Global Top 100\n",
    "# Get a list of all popular cities aggregated by countries\n",
    "test = top_destinations.copy().set_index('Rank')\n",
    "\n",
    "city_list_df = pd.DataFrame({'count': test.groupby(['Country'])['City'].count(),\n",
    "                            'city': test.groupby(['Country'])['City'].apply(list),\n",
    "                            'tourists (mm)': test.groupby(['Country'])[\"Tourists (Millions)\"].apply(list)})    \n",
    "city_list_df.head()"
   ]
  },
  {
   "cell_type": "markdown",
   "metadata": {},
   "source": [
    "## 2.4 Favorite dishes by country --  `.json` file "
   ]
  },
  {
   "cell_type": "code",
   "execution_count": 18,
   "metadata": {},
   "outputs": [
    {
     "data": {
      "text/html": [
       "<div>\n",
       "<style scoped>\n",
       "    .dataframe tbody tr th:only-of-type {\n",
       "        vertical-align: middle;\n",
       "    }\n",
       "\n",
       "    .dataframe tbody tr th {\n",
       "        vertical-align: top;\n",
       "    }\n",
       "\n",
       "    .dataframe thead th {\n",
       "        text-align: right;\n",
       "    }\n",
       "</style>\n",
       "<table border=\"1\" class=\"dataframe\">\n",
       "  <thead>\n",
       "    <tr style=\"text-align: right;\">\n",
       "      <th></th>\n",
       "      <th>dish</th>\n",
       "    </tr>\n",
       "    <tr>\n",
       "      <th>Country</th>\n",
       "      <th></th>\n",
       "    </tr>\n",
       "  </thead>\n",
       "  <tbody>\n",
       "    <tr>\n",
       "      <th>Afghanistan</th>\n",
       "      <td>Kabuli Palaw</td>\n",
       "    </tr>\n",
       "    <tr>\n",
       "      <th>Albania</th>\n",
       "      <td>Tav� kosi</td>\n",
       "    </tr>\n",
       "    <tr>\n",
       "      <th>Algeria</th>\n",
       "      <td>Couscous</td>\n",
       "    </tr>\n",
       "    <tr>\n",
       "      <th>American Samoa</th>\n",
       "      <td>None</td>\n",
       "    </tr>\n",
       "    <tr>\n",
       "      <th>Andorra</th>\n",
       "      <td>None</td>\n",
       "    </tr>\n",
       "  </tbody>\n",
       "</table>\n",
       "</div>"
      ],
      "text/plain": [
       "                        dish\n",
       "Country                     \n",
       "Afghanistan     Kabuli Palaw\n",
       "Albania            Tav� kosi\n",
       "Algeria            Couscous \n",
       "American Samoa          None\n",
       "Andorra                 None"
      ]
     },
     "execution_count": 18,
     "metadata": {},
     "output_type": "execute_result"
    }
   ],
   "source": [
    "# This json file comes from someone's github directory\n",
    "# https://github.com/samayo/country-json/blob/master/src/country-by-national-dish.json\n",
    "\n",
    "filepath = \"resources/country-by-national-dish.json\"\n",
    "yummy_df = pd.read_json(filepath)\n",
    "yummy_df.rename(columns={\"country\": \"Country\"}, inplace = True)\n",
    "yummy_df.set_index(\"Country\", inplace=True)\n",
    "yummy_df.head()"
   ]
  },
  {
   "cell_type": "markdown",
   "metadata": {},
   "source": [
    "## 2.5 World Countries and population -- web scraping `.html` "
   ]
  },
  {
   "cell_type": "code",
   "execution_count": 19,
   "metadata": {},
   "outputs": [],
   "source": [
    "# launch chromedriver -- get an empty page\n",
    "executable_path = {'executable_path': '/usr/local/bin/chromedriver'}\n",
    "browser = Browser('chrome', **executable_path, headless=False)"
   ]
  },
  {
   "cell_type": "code",
   "execution_count": 20,
   "metadata": {},
   "outputs": [],
   "source": [
    "url = \"https://www.worldometers.info/geography/how-many-countries-are-there-in-the-world/\"\n",
    "browser.visit(url)"
   ]
  },
  {
   "cell_type": "code",
   "execution_count": 21,
   "metadata": {},
   "outputs": [
    {
     "data": {
      "text/html": [
       "<div>\n",
       "<style scoped>\n",
       "    .dataframe tbody tr th:only-of-type {\n",
       "        vertical-align: middle;\n",
       "    }\n",
       "\n",
       "    .dataframe tbody tr th {\n",
       "        vertical-align: top;\n",
       "    }\n",
       "\n",
       "    .dataframe thead th {\n",
       "        text-align: right;\n",
       "    }\n",
       "</style>\n",
       "<table border=\"1\" class=\"dataframe\">\n",
       "  <thead>\n",
       "    <tr style=\"text-align: right;\">\n",
       "      <th></th>\n",
       "      <th>Population(2019)</th>\n",
       "      <th>World Share</th>\n",
       "      <th>Land Area (Km²)</th>\n",
       "    </tr>\n",
       "    <tr>\n",
       "      <th>Country</th>\n",
       "      <th></th>\n",
       "      <th></th>\n",
       "      <th></th>\n",
       "    </tr>\n",
       "  </thead>\n",
       "  <tbody>\n",
       "    <tr>\n",
       "      <th>China</th>\n",
       "      <td>1420062022</td>\n",
       "      <td>18.4 %</td>\n",
       "      <td>9388211</td>\n",
       "    </tr>\n",
       "    <tr>\n",
       "      <th>India</th>\n",
       "      <td>1368737513</td>\n",
       "      <td>17.7 %</td>\n",
       "      <td>2973190</td>\n",
       "    </tr>\n",
       "    <tr>\n",
       "      <th>United States</th>\n",
       "      <td>329093110</td>\n",
       "      <td>4.3 %</td>\n",
       "      <td>9147420</td>\n",
       "    </tr>\n",
       "    <tr>\n",
       "      <th>Indonesia</th>\n",
       "      <td>269536482</td>\n",
       "      <td>3.5 %</td>\n",
       "      <td>1811570</td>\n",
       "    </tr>\n",
       "    <tr>\n",
       "      <th>Brazil</th>\n",
       "      <td>212392717</td>\n",
       "      <td>2.8 %</td>\n",
       "      <td>8358140</td>\n",
       "    </tr>\n",
       "  </tbody>\n",
       "</table>\n",
       "</div>"
      ],
      "text/plain": [
       "               Population(2019) World Share  Land Area (Km²)\n",
       "Country                                                     \n",
       "China                1420062022      18.4 %          9388211\n",
       "India                1368737513      17.7 %          2973190\n",
       "United States         329093110       4.3 %          9147420\n",
       "Indonesia             269536482       3.5 %          1811570\n",
       "Brazil                212392717       2.8 %          8358140"
      ]
     },
     "execution_count": 21,
     "metadata": {},
     "output_type": "execute_result"
    }
   ],
   "source": [
    "tables = pd.read_html(browser.html)\n",
    "population_df = tables[0]\n",
    "\n",
    "del population_df['#']\n",
    "population_df.set_index('Country', inplace = True)\n",
    "population_df.head()"
   ]
  },
  {
   "cell_type": "code",
   "execution_count": 22,
   "metadata": {},
   "outputs": [],
   "source": [
    "browser.quit()"
   ]
  },
  {
   "cell_type": "markdown",
   "metadata": {},
   "source": [
    "# 3. TRANSFORM"
   ]
  },
  {
   "cell_type": "markdown",
   "metadata": {},
   "source": [
    "**3.1 Clean-up country lists**"
   ]
  },
  {
   "cell_type": "code",
   "execution_count": 23,
   "metadata": {},
   "outputs": [],
   "source": [
    "# function used to clean up the countries\n",
    "def clean_up(df, unify_dict, drop_list):\n",
    "    test = df.reset_index()\n",
    "    for ct in drop_list:\n",
    "        test = test[test['Country'] != ct]\n",
    "\n",
    "    for i in range(len(test)):\n",
    "        for key in unify_dict:\n",
    "            if test.iloc[i, 0] in unify_dict[key]:\n",
    "                test.iloc[i,0] = key\n",
    "                \n",
    "    return test"
   ]
  },
  {
   "cell_type": "code",
   "execution_count": 24,
   "metadata": {},
   "outputs": [
    {
     "name": "stdout",
     "output_type": "stream",
     "text": [
      "\n",
      "visa_ct_list : 193\n",
      "-----------------------------\n",
      "['Afghanistan', 'Albania', 'Algeria', 'Andorra', 'Angola', 'Antigua and Barbuda', 'Argentina', 'Armenia', 'Australia', 'Austria', '...']\n",
      "\n",
      "gdp_ct_list : 231\n",
      "-----------------------------\n",
      "['Afghanistan', 'Angola', 'Albania', 'Andorra', 'Arab World', 'United Arab Emirates', 'Argentina', 'Armenia', 'Antigua and Barbuda', 'Australia', '...']\n",
      "\n",
      "city_ct_list : 53\n",
      "-----------------------------\n",
      "['Hong Kong', 'Singapore', 'Thailand', 'UK', 'Macau', 'Malaysia', 'China', 'USA', 'Turkey', 'France', '...']\n",
      "\n",
      "yummy_ct_list : 243\n",
      "-----------------------------\n",
      "['Afghanistan', 'Albania', 'Algeria', 'American Samoa', 'Andorra', 'Angola', 'Anguilla', 'Antarctica', 'Antigua and Barbuda', 'Argentina', '...']\n",
      "\n",
      "pop_ct_list : 195\n",
      "-----------------------------\n",
      "['China', 'India', 'United States', 'Indonesia', 'Brazil', 'Pakistan', 'Nigeria', 'Bangladesh', 'Russia', 'Mexico', '...']\n"
     ]
    }
   ],
   "source": [
    "def namestr(obj, namespace):\n",
    "    return [name for name in namespace if namespace[name] is obj]\n",
    "\n",
    "visa_ct_list = visa_df.index.to_list()\n",
    "gdp_ct_list = gdp_df.index.to_list()\n",
    "# city_ct_list = city_list_df.index.to_list()\n",
    "city_ct_list = top_destinations.index.unique().to_list()\n",
    "yummy_ct_list = yummy_df.index.to_list()\n",
    "pop_ct_list = population_df.index.to_list()\n",
    "\n",
    "lists = [visa_ct_list, gdp_ct_list, city_ct_list, yummy_ct_list, pop_ct_list]\n",
    "\n",
    "for l in lists:\n",
    "    print(f'\\n{namestr(l, globals())[0]} : {len(l)}')\n",
    "    print('-----------------------------')\n",
    "    print(l[:10] +['...'])"
   ]
  },
  {
   "cell_type": "markdown",
   "metadata": {},
   "source": [
    "**1) Visa Country list**"
   ]
  },
  {
   "cell_type": "code",
   "execution_count": 25,
   "metadata": {},
   "outputs": [],
   "source": [
    "# special: United States -- since Visa_df applies to US citizens\n",
    "# Unify the two lists\n",
    "\n",
    "unify_dict = {\"Democratic Republic of the Congo\" : [\"Democratic Republic of the Congo\", \"DR Congo\"],\n",
    " \"Czech Republic\": [\"Czech Republic\", \"Czechia\"],\n",
    " \"Republic of the Congo\" : [\"Republic of the Congo\", \"Congo\"],\n",
    " \"Saint Kitts & Nevis\": [\"Saint Kitts and Nevis\", \"Saint Kitts & Nevis\"],\n",
    " \"St. Vincent & Grenadines\" : [\"St. Vincent & Grenadines\",\"Saint Vincent and the Grenadines\"],\n",
    " \"Sao Tome & Principe\": [\"Sao Tome & Principe\",\"São Tomé and Príncipe\"],\n",
    " \"Eswatini\": [\"Eswatini\",\"Swaziland\"],\n",
    " \"Cape Verde\": [\"Cape Verde\",\"Cabo Verde\"]\n",
    "}\n",
    "\n",
    "drop_list = [\"State of Palestine\", \"Holy See\"]"
   ]
  },
  {
   "cell_type": "code",
   "execution_count": 26,
   "metadata": {},
   "outputs": [],
   "source": [
    "visa_df = clean_up(visa_df, unify_dict, drop_list)\n",
    "population_df = clean_up(population_df, unify_dict, drop_list)"
   ]
  },
  {
   "cell_type": "code",
   "execution_count": 27,
   "metadata": {},
   "outputs": [
    {
     "data": {
      "text/html": [
       "<div>\n",
       "<style scoped>\n",
       "    .dataframe tbody tr th:only-of-type {\n",
       "        vertical-align: middle;\n",
       "    }\n",
       "\n",
       "    .dataframe tbody tr th {\n",
       "        vertical-align: top;\n",
       "    }\n",
       "\n",
       "    .dataframe thead th {\n",
       "        text-align: right;\n",
       "    }\n",
       "</style>\n",
       "<table border=\"1\" class=\"dataframe\">\n",
       "  <thead>\n",
       "    <tr style=\"text-align: right;\">\n",
       "      <th></th>\n",
       "      <th>Country</th>\n",
       "      <th>Population(2019)</th>\n",
       "      <th>World Share</th>\n",
       "      <th>Land Area (Km²)</th>\n",
       "    </tr>\n",
       "  </thead>\n",
       "  <tbody>\n",
       "    <tr>\n",
       "      <th>0</th>\n",
       "      <td>China</td>\n",
       "      <td>1420062022</td>\n",
       "      <td>18.4 %</td>\n",
       "      <td>9388211.0</td>\n",
       "    </tr>\n",
       "    <tr>\n",
       "      <th>1</th>\n",
       "      <td>India</td>\n",
       "      <td>1368737513</td>\n",
       "      <td>17.7 %</td>\n",
       "      <td>2973190.0</td>\n",
       "    </tr>\n",
       "    <tr>\n",
       "      <th>2</th>\n",
       "      <td>United States</td>\n",
       "      <td>329093110</td>\n",
       "      <td>4.3 %</td>\n",
       "      <td>9147420.0</td>\n",
       "    </tr>\n",
       "    <tr>\n",
       "      <th>3</th>\n",
       "      <td>Indonesia</td>\n",
       "      <td>269536482</td>\n",
       "      <td>3.5 %</td>\n",
       "      <td>1811570.0</td>\n",
       "    </tr>\n",
       "    <tr>\n",
       "      <th>4</th>\n",
       "      <td>Brazil</td>\n",
       "      <td>212392717</td>\n",
       "      <td>2.8 %</td>\n",
       "      <td>8358140.0</td>\n",
       "    </tr>\n",
       "  </tbody>\n",
       "</table>\n",
       "</div>"
      ],
      "text/plain": [
       "         Country  Population(2019) World Share  Land Area (Km²)\n",
       "0          China        1420062022      18.4 %        9388211.0\n",
       "1          India        1368737513      17.7 %        2973190.0\n",
       "2  United States         329093110       4.3 %        9147420.0\n",
       "3      Indonesia         269536482       3.5 %        1811570.0\n",
       "4         Brazil         212392717       2.8 %        8358140.0"
      ]
     },
     "execution_count": 27,
     "metadata": {},
     "output_type": "execute_result"
    }
   ],
   "source": [
    "df2 = pd.DataFrame([[\"Vatican City\", 1000, '0 %', 0.44]], columns = list(population_df.columns))\n",
    "population_df = population_df.append(df2, ignore_index=True)\n",
    "population_df.head()"
   ]
  },
  {
   "cell_type": "code",
   "execution_count": 28,
   "metadata": {},
   "outputs": [],
   "source": [
    "# update country name list \n",
    "population_df.set_index('Country', inplace = True)\n",
    "visa_df.set_index('Country', inplace = True)\n",
    "\n",
    "visa_ct_list = visa_df.index.to_list()\n",
    "pop_ct_list = population_df.index.to_list()\n",
    "\n",
    "lists = [visa_ct_list, gdp_ct_list, city_ct_list, yummy_ct_list, pop_ct_list]"
   ]
  },
  {
   "cell_type": "code",
   "execution_count": 29,
   "metadata": {},
   "outputs": [
    {
     "name": "stdout",
     "output_type": "stream",
     "text": [
      "[]\n"
     ]
    }
   ],
   "source": [
    "# countries in Population_df but not Visa_df\n",
    "test_A = [x for x in pop_ct_list if x not in list(set(pop_ct_list) & set(visa_ct_list))]\n",
    "# print(sorted(test_A))\n",
    "# countries in Visa_df but not Population_df\n",
    "test_B = [x for x in visa_ct_list if x not in list(set(pop_ct_list) & set(visa_ct_list))]\n",
    "print(sorted(test_B))"
   ]
  },
  {
   "cell_type": "markdown",
   "metadata": {},
   "source": [
    "**2) GDP Country list**"
   ]
  },
  {
   "cell_type": "code",
   "execution_count": 30,
   "metadata": {},
   "outputs": [],
   "source": [
    "# special: United States -- since Visa_df applies to US citizens\n",
    "# Unify the two lists\n",
    "\n",
    "unify_dict = {\"Democratic Republic of the Congo\" : [\"Democratic Republic of the Congo\", \n",
    "                                                    \"DR Congo\", \"Congo, Dem. Rep.\",\n",
    "                                                    \"The Democratic Republic of Congo\"],\n",
    " \"Czech Republic\": [\"Czech Republic\", \"Czechia\"],\n",
    " \"Republic of the Congo\" : [\"Republic of the Congo\", \"Congo\", \"Congo, Rep.\"],\n",
    " \"Saint Kitts & Nevis\": [\"Saint Kitts and Nevis\", \"Saint Kitts & Nevis\", \"St. Kitts and Nevis\"],\n",
    " \"St. Vincent & Grenadines\" : [\"St. Vincent & Grenadines\",\n",
    "                               \"Saint Vincent and the Grenadines\", \n",
    "                               \"St. Vincent and the Grenadines\"],\n",
    " \"Sao Tome & Principe\": [\"Sao Tome & Principe\",\"São Tomé and Príncipe\", \"Sao Tome and Principe\"],\n",
    " \"Eswatini\": [\"Eswatini\",\"Swaziland\"],\n",
    " \"Côte d'Ivoire\" : [\"Côte d'Ivoire\", \"Cote d'Ivoire\"],\n",
    " \"Cape Verde\": [\"Cape Verde\",\"Cabo Verde\"],\n",
    " \"Egypt\" : [\"Egypt, Arab Rep.\",\"Egypt\"],\n",
    " \"Gambia\" : [\"Gambia, The\", \"Gambia\"],\n",
    " \"South Korea\": [\"Korea, Rep.\",\"South Korea\"],\n",
    " \"Kyrgyzstan\": [\"Kyrgyz Republic\", \"Kyrgyzstan\"],\n",
    " \"Laos\" : [\"Lao PDR\", \"Laos\"],\n",
    " \"Micronesia\" : [\"Micronesia, Fed. Sts.\", \"Micronesia\"],\n",
    " \"Russia\" : [\"Russian Federation\", \"Russia\"],\n",
    " \"Slovakia\" : [\"Slovak Republic\", \"Slovakia\"],\n",
    " \"Saint Lucia\" : [\"St. Lucia\", \"Saint Lucia\"],\n",
    " \"Yemen\" : [\"Yemen, Rep.\", \"Yemen\"],\n",
    " \"Brunei\" : [\"Brunei Darussalam\", \"Brunei\"]\n",
    "}\n",
    "\n",
    "drop_list = [\"State of Palestine\", \"Holy See\", \n",
    "             \"Arab World\",\"Caribbean small states\",\"Central Europe and the Baltics\",\"Early-demographic dividend\",\n",
    "             \"East Asia & Pacific\", \"East Asia & Pacific (IDA & IBRD countries)\",\n",
    "             \"East Asia & Pacific (excluding high income)\",\"Euro area\", \"Europe & Central Asia\",\n",
    "             'Europe & Central Asia (IDA & IBRD countries)','Europe & Central Asia (excluding high income)',\n",
    "             'European Union','Fragile and conflict affected situations',\n",
    "             'Heavily indebted poor countries (HIPC)','High income','Hong Kong SAR, China','IBRD only',\n",
    "             'IDA & IBRD total','IDA blend','IDA only', 'IDA total','Kosovo',\n",
    "             'Late-demographic dividend', 'Latin America & Caribbean',\n",
    "             'Latin America & Caribbean (excluding high income)',\n",
    "             'Latin America & the Caribbean (IDA & IBRD countries)','Least developed countries: UN classification',\n",
    "             'Low & middle income','Low income','Lower middle income','Macao SAR, China',\n",
    "             'Middle East & North Africa','Middle income', 'North America','OECD members','Other small states',\n",
    "             'Pacific island small states','Post-demographic dividend','Pre-demographic dividend','Puerto Rico',\n",
    "             'Small states','South Asia', 'South Asia (IDA & IBRD)','Sub-Saharan Africa',\n",
    "             'Sub-Saharan Africa (IDA & IBRD countries)','Sub-Saharan Africa (excluding high income)',\n",
    "             'Turks and Caicos Islands','West Bank and Gaza', 'World', 'Upper middle income'\n",
    "            ]"
   ]
  },
  {
   "cell_type": "code",
   "execution_count": 31,
   "metadata": {},
   "outputs": [],
   "source": [
    "gdp_df = clean_up(gdp_df, unify_dict, drop_list)\n",
    "population_df = clean_up(population_df, unify_dict, drop_list)"
   ]
  },
  {
   "cell_type": "code",
   "execution_count": 32,
   "metadata": {},
   "outputs": [],
   "source": [
    "# update country name list \n",
    "population_df.set_index('Country', inplace = True)\n",
    "gdp_df.set_index('Country', inplace = True)\n",
    "\n",
    "gdp_ct_list = gdp_df.index.to_list()\n",
    "pop_ct_list = population_df.index.to_list()\n",
    "lists = [visa_ct_list, gdp_ct_list, city_ct_list, yummy_ct_list, pop_ct_list]"
   ]
  },
  {
   "cell_type": "code",
   "execution_count": 33,
   "metadata": {},
   "outputs": [
    {
     "data": {
      "text/plain": [
       "[]"
      ]
     },
     "execution_count": 33,
     "metadata": {},
     "output_type": "execute_result"
    }
   ],
   "source": [
    "# countries in Population_df but not Visa_df\n",
    "test_A = [x for x in pop_ct_list if x not in list(set(pop_ct_list) & set(gdp_ct_list))]\n",
    "# print(sorted(test_A))\n",
    "# countries in Visa_df but not Population_df\n",
    "test_B = [x for x in gdp_ct_list if x not in list(set(pop_ct_list) & set(gdp_ct_list))]\n",
    "sorted(test_B)"
   ]
  },
  {
   "cell_type": "markdown",
   "metadata": {},
   "source": [
    "**3) yummy Country list**"
   ]
  },
  {
   "cell_type": "code",
   "execution_count": 34,
   "metadata": {},
   "outputs": [],
   "source": [
    "yummy_dict = {\n",
    "    \"United States\": [\"American Samoa\", \"Guam\", \"Micronesia, Federated States of\",\"Northern Mariana Islands\",\n",
    "                      \"Puerto Rico\",\"United States Minor Outlying Islands\",\"Virgin Islands, U.S.\",\n",
    "                      \"USA\", \"United States\"],\n",
    "    \"United Kingdom\": [\"Anguilla\", \"Bermuda\", \"British Indian Ocean Territory\",\"Cayman Islands\",\"England\",\n",
    "                       \"Falkland Islands\",\"Gibraltar\",\"Montserrat\",\"Northern Ireland\",\"Pitcairn\",\n",
    "                       \"Saint Helena\",\"Scotland\",\"South Georgia and the South Sandwich Islands\",\n",
    "                       \"Turks and Caicos Islands\",\"Virgin Islands, British\",\"Wales\",\"UK\",\"United Kingdom\"],\n",
    "    \"Netherlands\" : [\"Aruba\",\"Netherlands Antilles\", \"Netherlands\"],\n",
    "    \"Norway\": [\"Bouvet Island\", \"Svalbard and Jan Mayen\",\"Norway\"],\n",
    "    \"Australia\": [\"Christmas Island\",\"Cocos (Keeling) Islands\",\"Heard Island and McDonald Islands\", \"Australia\"],\n",
    "    \"New Zealand\": [\"Cook Islands\",\"Niue\",\"Norfolk Island\",\"Tokelau\",\"New Zealand\"],\n",
    "    \"Timor-Leste\": [\"East Timor\",\"Timor-Leste\"],\n",
    "    \"Denmark\": [\"Faroe Islands\", \"Greenland\", \"Denmark\"],\n",
    "    \"Fiji\": [\"Fiji Islands\",\"Fiji\"],\n",
    "    \"France\": [\"French Guiana\", \"French Polynesia\",\"French Southern territories\", \"Guadeloupe\", \"Martinique\", \n",
    "               \"Mayotte\", \"New Caledonia\",\"Reunion\",\"Saint Pierre and Miquelon\",\"Wallis and Futuna\",\"France\"],\n",
    "    \"China\": [\"Hong Kong\",\"Macao\",\"Macau\",\"Taiwan\", \"China\"],\n",
    "    \"Côte d'Ivoire\": [\"Ivory Coast\",\"Côte d'Ivoire\"],\n",
    "    \"Libya\": [\"Libyan Arab Jamahiriya\",\"Libya\"],\n",
    "    \"Russian\": [\"Russian Federation\",\"Russian\"],\n",
    "    \"Sri Lanka\": [\"Sri Lanka\",\"SriLanka\"],\n",
    "    \"United Arab Emirates\": [\"UAE\", \"United Arab Emirates\"]\n",
    "}\n",
    "\n",
    "yummy_drop_list = [\"Holy See (Vatican City State)\",\"Palestine\",\"Yugoslavia\",\"Western Sahara\",\"Antarctica\"]"
   ]
  },
  {
   "cell_type": "code",
   "execution_count": 35,
   "metadata": {},
   "outputs": [],
   "source": [
    "unify_dict.update(yummy_dict)\n",
    "yummy_df = clean_up(yummy_df, unify_dict, drop_list+yummy_drop_list)\n",
    "population_df = clean_up(population_df, unify_dict, drop_list+yummy_drop_list)"
   ]
  },
  {
   "cell_type": "code",
   "execution_count": 36,
   "metadata": {},
   "outputs": [],
   "source": [
    "test2 = yummy_df.groupby('Country').count()\n",
    "test2['dish'] = yummy_df.groupby('Country')['dish'].apply(list)\n",
    "for i in range(len(test2)):\n",
    "    if test2.iloc[i,0] != [None]:\n",
    "        item = test2.iloc[i,0]\n",
    "        test2.iloc[i,0] = list(set([x for x in item if x]))\n",
    "yummy_df = test2.copy()"
   ]
  },
  {
   "cell_type": "code",
   "execution_count": 37,
   "metadata": {},
   "outputs": [],
   "source": [
    "# update country name list \n",
    "population_df.set_index('Country', inplace = True)\n",
    "# yummy_df.set_index('Country', inplace = True)\n",
    "\n",
    "yummy_ct_list = yummy_df.index.to_list()\n",
    "pop_ct_list = population_df.index.to_list()\n",
    "lists = [visa_ct_list, gdp_ct_list, city_ct_list, yummy_ct_list, pop_ct_list]"
   ]
  },
  {
   "cell_type": "code",
   "execution_count": 38,
   "metadata": {},
   "outputs": [
    {
     "name": "stdout",
     "output_type": "stream",
     "text": [
      "[]\n"
     ]
    }
   ],
   "source": [
    "# countries in Population_df but not Visa_df\n",
    "test_A = [x for x in pop_ct_list if x not in list(set(pop_ct_list) & set(yummy_ct_list))]\n",
    "# print(sorted(test_A))\n",
    "# countries in Yummy_df but not Population_df\n",
    "test_B = [x for x in yummy_ct_list if x not in list(set(pop_ct_list) & set(yummy_ct_list))]\n",
    "print(sorted(test_B))"
   ]
  },
  {
   "cell_type": "markdown",
   "metadata": {},
   "source": [
    "**4) 100 Travel desitination Country list**"
   ]
  },
  {
   "cell_type": "code",
   "execution_count": 39,
   "metadata": {},
   "outputs": [],
   "source": [
    "top_destinations = clean_up(top_destinations, unify_dict, drop_list+yummy_drop_list)\n",
    "population_df = clean_up(population_df, unify_dict, drop_list+yummy_drop_list)"
   ]
  },
  {
   "cell_type": "code",
   "execution_count": 40,
   "metadata": {},
   "outputs": [],
   "source": [
    "top_destinations.set_index('Country', inplace = True)\n",
    "population_df.set_index('Country', inplace = True)\n",
    "\n",
    "city_ct_list = top_destinations.index.to_list()\n",
    "pop_ct_list = population_df.index.to_list()\n",
    "lists = [visa_ct_list, gdp_ct_list, city_ct_list, yummy_ct_list, pop_ct_list]"
   ]
  },
  {
   "cell_type": "code",
   "execution_count": 41,
   "metadata": {
    "scrolled": false
   },
   "outputs": [
    {
     "name": "stdout",
     "output_type": "stream",
     "text": [
      "[]\n"
     ]
    }
   ],
   "source": [
    "# countries in Population_df but not Visa_df\n",
    "test_A = [x for x in pop_ct_list if x not in list(set(pop_ct_list) & set(city_ct_list))]\n",
    "# print(sorted(test_A))\n",
    "# countries in Visa_df but not Population_df\n",
    "test_B = [x for x in city_ct_list if x not in list(set(pop_ct_list) & set(city_ct_list))]\n",
    "print(sorted(test_B))"
   ]
  },
  {
   "cell_type": "markdown",
   "metadata": {},
   "source": [
    "# 4. LOAD"
   ]
  },
  {
   "cell_type": "code",
   "execution_count": 42,
   "metadata": {},
   "outputs": [
    {
     "data": {
      "text/html": [
       "<div>\n",
       "<style scoped>\n",
       "    .dataframe tbody tr th:only-of-type {\n",
       "        vertical-align: middle;\n",
       "    }\n",
       "\n",
       "    .dataframe tbody tr th {\n",
       "        vertical-align: top;\n",
       "    }\n",
       "\n",
       "    .dataframe thead th {\n",
       "        text-align: right;\n",
       "    }\n",
       "</style>\n",
       "<table border=\"1\" class=\"dataframe\">\n",
       "  <thead>\n",
       "    <tr style=\"text-align: right;\">\n",
       "      <th></th>\n",
       "      <th>visa_requirement</th>\n",
       "      <th>notes</th>\n",
       "    </tr>\n",
       "    <tr>\n",
       "      <th>Country</th>\n",
       "      <th></th>\n",
       "      <th></th>\n",
       "    </tr>\n",
       "  </thead>\n",
       "  <tbody>\n",
       "    <tr>\n",
       "      <th>Afghanistan</th>\n",
       "      <td>Visa required</td>\n",
       "      <td>Visitors born in Afghanistan do not require a ...</td>\n",
       "    </tr>\n",
       "    <tr>\n",
       "      <th>Albania</th>\n",
       "      <td>Visa not required</td>\n",
       "      <td>NaN</td>\n",
       "    </tr>\n",
       "    <tr>\n",
       "      <th>Algeria</th>\n",
       "      <td>Visa required</td>\n",
       "      <td>Persons may be denied entry if entering with a...</td>\n",
       "    </tr>\n",
       "    <tr>\n",
       "      <th>Andorra</th>\n",
       "      <td>Visa not required</td>\n",
       "      <td>NaN</td>\n",
       "    </tr>\n",
       "    <tr>\n",
       "      <th>Angola</th>\n",
       "      <td>eVisa/Visa on arrival</td>\n",
       "      <td>Visitors who have been granted an online pre-v...</td>\n",
       "    </tr>\n",
       "  </tbody>\n",
       "</table>\n",
       "</div>"
      ],
      "text/plain": [
       "                  visa_requirement  \\\n",
       "Country                              \n",
       "Afghanistan          Visa required   \n",
       "Albania          Visa not required   \n",
       "Algeria              Visa required   \n",
       "Andorra          Visa not required   \n",
       "Angola       eVisa/Visa on arrival   \n",
       "\n",
       "                                                         notes  \n",
       "Country                                                         \n",
       "Afghanistan  Visitors born in Afghanistan do not require a ...  \n",
       "Albania                                                    NaN  \n",
       "Algeria      Persons may be denied entry if entering with a...  \n",
       "Andorra                                                    NaN  \n",
       "Angola       Visitors who have been granted an online pre-v...  "
      ]
     },
     "execution_count": 42,
     "metadata": {},
     "output_type": "execute_result"
    }
   ],
   "source": [
    "visa_df.to_csv(\"Output/visa_requirement_us_citizen.csv\")\n",
    "visa_df.head()"
   ]
  },
  {
   "cell_type": "code",
   "execution_count": 43,
   "metadata": {},
   "outputs": [
    {
     "data": {
      "text/html": [
       "<div>\n",
       "<style scoped>\n",
       "    .dataframe tbody tr th:only-of-type {\n",
       "        vertical-align: middle;\n",
       "    }\n",
       "\n",
       "    .dataframe tbody tr th {\n",
       "        vertical-align: top;\n",
       "    }\n",
       "\n",
       "    .dataframe thead th {\n",
       "        text-align: right;\n",
       "    }\n",
       "</style>\n",
       "<table border=\"1\" class=\"dataframe\">\n",
       "  <thead>\n",
       "    <tr style=\"text-align: right;\">\n",
       "      <th></th>\n",
       "      <th>gdp_2018</th>\n",
       "    </tr>\n",
       "    <tr>\n",
       "      <th>Country</th>\n",
       "      <th></th>\n",
       "    </tr>\n",
       "  </thead>\n",
       "  <tbody>\n",
       "    <tr>\n",
       "      <th>Afghanistan</th>\n",
       "      <td>1.936297e+10</td>\n",
       "    </tr>\n",
       "    <tr>\n",
       "      <th>Angola</th>\n",
       "      <td>1.057510e+11</td>\n",
       "    </tr>\n",
       "    <tr>\n",
       "      <th>Albania</th>\n",
       "      <td>1.505888e+10</td>\n",
       "    </tr>\n",
       "    <tr>\n",
       "      <th>Andorra</th>\n",
       "      <td>3.236544e+09</td>\n",
       "    </tr>\n",
       "    <tr>\n",
       "      <th>United Arab Emirates</th>\n",
       "      <td>4.141790e+11</td>\n",
       "    </tr>\n",
       "  </tbody>\n",
       "</table>\n",
       "</div>"
      ],
      "text/plain": [
       "                          gdp_2018\n",
       "Country                           \n",
       "Afghanistan           1.936297e+10\n",
       "Angola                1.057510e+11\n",
       "Albania               1.505888e+10\n",
       "Andorra               3.236544e+09\n",
       "United Arab Emirates  4.141790e+11"
      ]
     },
     "execution_count": 43,
     "metadata": {},
     "output_type": "execute_result"
    }
   ],
   "source": [
    "gdp_df.rename(columns={\"GDP 2018\": \"gdp_2018\"}, inplace=True)\n",
    "gdp_df.to_csv(\"Output/GDP_2018.csv\")\n",
    "gdp_df.head()"
   ]
  },
  {
   "cell_type": "code",
   "execution_count": 44,
   "metadata": {},
   "outputs": [
    {
     "data": {
      "text/html": [
       "<div>\n",
       "<style scoped>\n",
       "    .dataframe tbody tr th:only-of-type {\n",
       "        vertical-align: middle;\n",
       "    }\n",
       "\n",
       "    .dataframe tbody tr th {\n",
       "        vertical-align: top;\n",
       "    }\n",
       "\n",
       "    .dataframe thead th {\n",
       "        text-align: right;\n",
       "    }\n",
       "</style>\n",
       "<table border=\"1\" class=\"dataframe\">\n",
       "  <thead>\n",
       "    <tr style=\"text-align: right;\">\n",
       "      <th></th>\n",
       "      <th>city</th>\n",
       "      <th>tourists_mm</th>\n",
       "    </tr>\n",
       "    <tr>\n",
       "      <th>Country</th>\n",
       "      <th></th>\n",
       "      <th></th>\n",
       "    </tr>\n",
       "  </thead>\n",
       "  <tbody>\n",
       "    <tr>\n",
       "      <th>China</th>\n",
       "      <td>Hong Kong</td>\n",
       "      <td>23.7</td>\n",
       "    </tr>\n",
       "    <tr>\n",
       "      <th>Singapore</th>\n",
       "      <td>Singapore</td>\n",
       "      <td>21.3</td>\n",
       "    </tr>\n",
       "    <tr>\n",
       "      <th>Thailand</th>\n",
       "      <td>Bangkok</td>\n",
       "      <td>15.8</td>\n",
       "    </tr>\n",
       "    <tr>\n",
       "      <th>United Kingdom</th>\n",
       "      <td>London</td>\n",
       "      <td>15.5</td>\n",
       "    </tr>\n",
       "    <tr>\n",
       "      <th>China</th>\n",
       "      <td>Macau</td>\n",
       "      <td>13.4</td>\n",
       "    </tr>\n",
       "  </tbody>\n",
       "</table>\n",
       "</div>"
      ],
      "text/plain": [
       "                     city  tourists_mm\n",
       "Country                               \n",
       "China           Hong Kong         23.7\n",
       "Singapore       Singapore         21.3\n",
       "Thailand          Bangkok         15.8\n",
       "United Kingdom     London         15.5\n",
       "China               Macau         13.4"
      ]
     },
     "execution_count": 44,
     "metadata": {},
     "output_type": "execute_result"
    }
   ],
   "source": [
    "top_destinations.to_csv(\"Output/top_100_desination.csv\")\n",
    "top_destinations.head()"
   ]
  },
  {
   "cell_type": "code",
   "execution_count": 45,
   "metadata": {},
   "outputs": [
    {
     "data": {
      "text/html": [
       "<div>\n",
       "<style scoped>\n",
       "    .dataframe tbody tr th:only-of-type {\n",
       "        vertical-align: middle;\n",
       "    }\n",
       "\n",
       "    .dataframe tbody tr th {\n",
       "        vertical-align: top;\n",
       "    }\n",
       "\n",
       "    .dataframe thead th {\n",
       "        text-align: right;\n",
       "    }\n",
       "</style>\n",
       "<table border=\"1\" class=\"dataframe\">\n",
       "  <thead>\n",
       "    <tr style=\"text-align: right;\">\n",
       "      <th></th>\n",
       "      <th>dish</th>\n",
       "    </tr>\n",
       "    <tr>\n",
       "      <th>Country</th>\n",
       "      <th></th>\n",
       "    </tr>\n",
       "  </thead>\n",
       "  <tbody>\n",
       "    <tr>\n",
       "      <th>Afghanistan</th>\n",
       "      <td>[Kabuli Palaw]</td>\n",
       "    </tr>\n",
       "    <tr>\n",
       "      <th>Albania</th>\n",
       "      <td>[Tav� kosi]</td>\n",
       "    </tr>\n",
       "    <tr>\n",
       "      <th>Algeria</th>\n",
       "      <td>[Couscous ]</td>\n",
       "    </tr>\n",
       "    <tr>\n",
       "      <th>Andorra</th>\n",
       "      <td>[None]</td>\n",
       "    </tr>\n",
       "    <tr>\n",
       "      <th>Angola</th>\n",
       "      <td>[Moamba de galinha ]</td>\n",
       "    </tr>\n",
       "  </tbody>\n",
       "</table>\n",
       "</div>"
      ],
      "text/plain": [
       "                             dish\n",
       "Country                          \n",
       "Afghanistan        [Kabuli Palaw]\n",
       "Albania               [Tav� kosi]\n",
       "Algeria               [Couscous ]\n",
       "Andorra                    [None]\n",
       "Angola       [Moamba de galinha ]"
      ]
     },
     "execution_count": 45,
     "metadata": {},
     "output_type": "execute_result"
    }
   ],
   "source": [
    "yummy_df.to_csv(\"Output/yummy.csv\")\n",
    "yummy_df.head()"
   ]
  },
  {
   "cell_type": "code",
   "execution_count": 46,
   "metadata": {},
   "outputs": [
    {
     "data": {
      "text/html": [
       "<div>\n",
       "<style scoped>\n",
       "    .dataframe tbody tr th:only-of-type {\n",
       "        vertical-align: middle;\n",
       "    }\n",
       "\n",
       "    .dataframe tbody tr th {\n",
       "        vertical-align: top;\n",
       "    }\n",
       "\n",
       "    .dataframe thead th {\n",
       "        text-align: right;\n",
       "    }\n",
       "</style>\n",
       "<table border=\"1\" class=\"dataframe\">\n",
       "  <thead>\n",
       "    <tr style=\"text-align: right;\">\n",
       "      <th></th>\n",
       "      <th>population</th>\n",
       "      <th>world_share</th>\n",
       "      <th>land_area</th>\n",
       "    </tr>\n",
       "    <tr>\n",
       "      <th>Country</th>\n",
       "      <th></th>\n",
       "      <th></th>\n",
       "      <th></th>\n",
       "    </tr>\n",
       "  </thead>\n",
       "  <tbody>\n",
       "    <tr>\n",
       "      <th>China</th>\n",
       "      <td>1420062022</td>\n",
       "      <td>18.4 %</td>\n",
       "      <td>9388211.0</td>\n",
       "    </tr>\n",
       "    <tr>\n",
       "      <th>India</th>\n",
       "      <td>1368737513</td>\n",
       "      <td>17.7 %</td>\n",
       "      <td>2973190.0</td>\n",
       "    </tr>\n",
       "    <tr>\n",
       "      <th>United States</th>\n",
       "      <td>329093110</td>\n",
       "      <td>4.3 %</td>\n",
       "      <td>9147420.0</td>\n",
       "    </tr>\n",
       "    <tr>\n",
       "      <th>Indonesia</th>\n",
       "      <td>269536482</td>\n",
       "      <td>3.5 %</td>\n",
       "      <td>1811570.0</td>\n",
       "    </tr>\n",
       "    <tr>\n",
       "      <th>Brazil</th>\n",
       "      <td>212392717</td>\n",
       "      <td>2.8 %</td>\n",
       "      <td>8358140.0</td>\n",
       "    </tr>\n",
       "  </tbody>\n",
       "</table>\n",
       "</div>"
      ],
      "text/plain": [
       "               population world_share  land_area\n",
       "Country                                         \n",
       "China          1420062022      18.4 %  9388211.0\n",
       "India          1368737513      17.7 %  2973190.0\n",
       "United States   329093110       4.3 %  9147420.0\n",
       "Indonesia       269536482       3.5 %  1811570.0\n",
       "Brazil          212392717       2.8 %  8358140.0"
      ]
     },
     "execution_count": 46,
     "metadata": {},
     "output_type": "execute_result"
    }
   ],
   "source": [
    "population_df.rename(columns={\"Population(2019)\": \"population\",\n",
    "                       \"World Share\":\"world_share\",\n",
    "                       \"Land Area (Km²)\": \"land_area\"\n",
    "                      }, inplace=True)\n",
    "population_df.to_csv(\"Output/world_population.csv\")\n",
    "population_df.head()"
   ]
  },
  {
   "cell_type": "markdown",
   "metadata": {},
   "source": [
    "#### 4.1 SQLAlchemy DataBase"
   ]
  },
  {
   "cell_type": "code",
   "execution_count": 47,
   "metadata": {},
   "outputs": [],
   "source": [
    "# create table \n",
    "from sqlalchemy import Column, Integer, String, Float, BigInteger\n",
    "from sqlalchemy.orm import Session"
   ]
  },
  {
   "cell_type": "code",
   "execution_count": 48,
   "metadata": {},
   "outputs": [],
   "source": [
    "database_path = \"resources/country_db\"\n",
    "engine = create_engine(f\"sqlite:///{database_path}\")"
   ]
  },
  {
   "cell_type": "code",
   "execution_count": 49,
   "metadata": {},
   "outputs": [],
   "source": [
    "conn = engine.connect()\n",
    "Base = declarative_base()\n",
    "session = Session(bind = engine)"
   ]
  },
  {
   "cell_type": "code",
   "execution_count": 50,
   "metadata": {},
   "outputs": [],
   "source": [
    "class Visa(Base):\n",
    "    #Tell SQLAlchemy what the table name is and if there's any table-specific arguments it should know about\n",
    "    __tablename__ = 'Visa'\n",
    "    __table_args__ = {'sqlite_autoincrement': True}\n",
    "    #tell SQLAlchemy the name of column and its attributes:\n",
    "    id = Column(Integer, primary_key=True) \n",
    "    country = Column(String)\n",
    "    visa_requirement = Column(String)\n",
    "    notes = Column(String)"
   ]
  },
  {
   "cell_type": "code",
   "execution_count": 51,
   "metadata": {},
   "outputs": [],
   "source": [
    "class GDP(Base):\n",
    "    #Tell SQLAlchemy what the table name is and if there's any table-specific arguments it should know about\n",
    "    __tablename__ = 'GDP'\n",
    "    __table_args__ = {'sqlite_autoincrement': True}\n",
    "    #tell SQLAlchemy the name of column and its attributes:\n",
    "    id = Column(Integer, primary_key=True) \n",
    "    country = Column(String)\n",
    "    gdp_2018 = Column(BigInteger)"
   ]
  },
  {
   "cell_type": "code",
   "execution_count": 52,
   "metadata": {},
   "outputs": [],
   "source": [
    "class Population(Base):\n",
    "    #Tell SQLAlchemy what the table name is and if there's any table-specific arguments it should know about\n",
    "    __tablename__ = 'Population'\n",
    "    __table_args__ = {'sqlite_autoincrement': True}\n",
    "    #tell SQLAlchemy the name of column and its attributes:\n",
    "    id = Column(Integer) \n",
    "    country = Column(String, primary_key=True)\n",
    "    population = Column(BigInteger)\n",
    "    world_share  = Column(String)\n",
    "    land_area = Column(Integer)"
   ]
  },
  {
   "cell_type": "code",
   "execution_count": 53,
   "metadata": {},
   "outputs": [],
   "source": [
    "class Yummy(Base):\n",
    "    #Tell SQLAlchemy what the table name is and if there's any table-specific arguments it should know about\n",
    "    __tablename__ = 'Yummy'\n",
    "    __table_args__ = {'sqlite_autoincrement': True}\n",
    "    #tell SQLAlchemy the name of column and its attributes:\n",
    "    id = Column(Integer, primary_key=True) \n",
    "    country = Column(String)\n",
    "    dish = Column(String)"
   ]
  },
  {
   "cell_type": "code",
   "execution_count": 54,
   "metadata": {},
   "outputs": [],
   "source": [
    "class City_list(Base):\n",
    "    #Tell SQLAlchemy what the table name is and if there's any table-specific arguments it should know about\n",
    "    __tablename__ = 'City_list'\n",
    "    __table_args__ = {'sqlite_autoincrement': True}\n",
    "    #tell SQLAlchemy the name of column and its attributes:\n",
    "    id = Column(Integer, primary_key=True) \n",
    "    country = Column(String)\n",
    "    #city_count = Column(String)\n",
    "    city = Column(String)\n",
    "    tourists_mm = Column(String)"
   ]
  },
  {
   "cell_type": "code",
   "execution_count": 55,
   "metadata": {},
   "outputs": [],
   "source": [
    "visa = pd.read_csv(\"Output/visa_requirement_us_citizen.csv\")\n",
    "visa.to_sql(con=engine, index_label='id', name=Visa.__tablename__, if_exists='replace')"
   ]
  },
  {
   "cell_type": "code",
   "execution_count": 56,
   "metadata": {},
   "outputs": [],
   "source": [
    "gdp = pd.read_csv(\"Output/GDP_2018.csv\")\n",
    "gdp.to_sql(con=engine, index_label='id', name=GDP.__tablename__, if_exists='replace')"
   ]
  },
  {
   "cell_type": "code",
   "execution_count": 57,
   "metadata": {},
   "outputs": [],
   "source": [
    "population = pd.read_csv(\"Output/world_population.csv\")\n",
    "population.to_sql(con=engine, index_label='id', name=Population.__tablename__, if_exists='replace')"
   ]
  },
  {
   "cell_type": "code",
   "execution_count": 58,
   "metadata": {},
   "outputs": [],
   "source": [
    "yummy = pd.read_csv(\"Output/yummy.csv\")\n",
    "yummy.to_sql(con=engine, index_label='id', name=Yummy.__tablename__, if_exists='replace')"
   ]
  },
  {
   "cell_type": "code",
   "execution_count": 59,
   "metadata": {},
   "outputs": [],
   "source": [
    "city_list = pd.read_csv(\"Output/top_100_desination.csv\")\n",
    "city_list.to_sql(con=engine, index_label='id', name=City_list.__tablename__, if_exists='replace')"
   ]
  },
  {
   "cell_type": "markdown",
   "metadata": {},
   "source": [
    "# 5. QUERY TIME!"
   ]
  },
  {
   "cell_type": "markdown",
   "metadata": {},
   "source": [
    "## 5.0 Let's test it out!\n",
    "* Visa requirement ==> Visa not required"
   ]
  },
  {
   "cell_type": "code",
   "execution_count": 60,
   "metadata": {},
   "outputs": [],
   "source": [
    "rows = session.query(Visa.country, \n",
    "                     Visa.visa_requirement,\n",
    "                     Visa.notes\n",
    "                    ).filter(Visa.visa_requirement == 'Visa not required').limit(5)"
   ]
  },
  {
   "cell_type": "code",
   "execution_count": 61,
   "metadata": {},
   "outputs": [
    {
     "name": "stdout",
     "output_type": "stream",
     "text": [
      "('Albania', 'Visa not required', None)\n",
      "('Andorra', 'Visa not required', None)\n",
      "('Antigua and Barbuda', 'Visa not required', 'Stringent application of rules regarding proof of sufficient funds, return ticket and accommodation.[21]')\n",
      "('Argentina', 'Visa not required', 'Extendable up to 180 days. Visitors are fingerprinted and photographed upon entry.')\n",
      "('Armenia', 'Visa not required', None)\n"
     ]
    }
   ],
   "source": [
    "for record in rows:\n",
    "    print(record)"
   ]
  },
  {
   "cell_type": "markdown",
   "metadata": {},
   "source": [
    "## 5.1 In your next vacation...\n",
    "1. country w/o visa requiremnt \n",
    "2. list of favourate cities\n",
    "3. favourite dish in that country"
   ]
  },
  {
   "cell_type": "code",
   "execution_count": 62,
   "metadata": {},
   "outputs": [],
   "source": [
    "sel = [Visa.country, City_list.city, City_list.tourists_mm,Yummy.dish, Population.population, GDP.gdp_2018]\n",
    "rows = session.query(*sel).filter(Visa.visa_requirement == \"Visa not required\",\n",
    "                                  Visa.country == Population.country,\n",
    "                                  Visa.country == City_list.country, \n",
    "                                  Visa.country == Yummy.country,\n",
    "                                  Visa.country == GDP.country,\n",
    "                                 ).order_by(City_list.tourists_mm.desc()).limit(10)"
   ]
  },
  {
   "cell_type": "code",
   "execution_count": 63,
   "metadata": {},
   "outputs": [],
   "source": [
    "data = []\n",
    "for record in rows:\n",
    "    data.append(record)"
   ]
  },
  {
   "cell_type": "code",
   "execution_count": 64,
   "metadata": {},
   "outputs": [
    {
     "data": {
      "text/html": [
       "<div>\n",
       "<style scoped>\n",
       "    .dataframe tbody tr th:only-of-type {\n",
       "        vertical-align: middle;\n",
       "    }\n",
       "\n",
       "    .dataframe tbody tr th {\n",
       "        vertical-align: top;\n",
       "    }\n",
       "\n",
       "    .dataframe thead th {\n",
       "        text-align: right;\n",
       "    }\n",
       "</style>\n",
       "<table border=\"1\" class=\"dataframe\">\n",
       "  <thead>\n",
       "    <tr style=\"text-align: right;\">\n",
       "      <th></th>\n",
       "      <th>Country</th>\n",
       "      <th>City</th>\n",
       "      <th>Tourist</th>\n",
       "      <th>Food</th>\n",
       "      <th>Population</th>\n",
       "      <th>GDP</th>\n",
       "    </tr>\n",
       "  </thead>\n",
       "  <tbody>\n",
       "    <tr>\n",
       "      <th>0</th>\n",
       "      <td>Singapore</td>\n",
       "      <td>Singapore</td>\n",
       "      <td>21.3M</td>\n",
       "      <td>['Chilli crab,Hainanese Chicken Rice']</td>\n",
       "      <td>5.87M</td>\n",
       "      <td>364B</td>\n",
       "    </tr>\n",
       "    <tr>\n",
       "      <th>1</th>\n",
       "      <td>Thailand</td>\n",
       "      <td>Bangkok</td>\n",
       "      <td>15.8M</td>\n",
       "      <td>['Pad Thai, Tom Yum Goong']</td>\n",
       "      <td>69.31M</td>\n",
       "      <td>505B</td>\n",
       "    </tr>\n",
       "    <tr>\n",
       "      <th>2</th>\n",
       "      <td>United Kingdom</td>\n",
       "      <td>London</td>\n",
       "      <td>15.5M</td>\n",
       "      <td>['Bermuda fish chowder', 'Haggis', 'Ulster fry...</td>\n",
       "      <td>66.96M</td>\n",
       "      <td>2,825B</td>\n",
       "    </tr>\n",
       "    <tr>\n",
       "      <th>3</th>\n",
       "      <td>Malaysia</td>\n",
       "      <td>Kuala Lumpur</td>\n",
       "      <td>13.3M</td>\n",
       "      <td>['Nasi lemak,Satay, Laksa, Roti canai']</td>\n",
       "      <td>32.45M</td>\n",
       "      <td>354B</td>\n",
       "    </tr>\n",
       "    <tr>\n",
       "      <th>4</th>\n",
       "      <td>France</td>\n",
       "      <td>Paris</td>\n",
       "      <td>9.8M</td>\n",
       "      <td>['Cr�pe, Pot-au-feu,Macaron, Bisque']</td>\n",
       "      <td>65.48M</td>\n",
       "      <td>2,778B</td>\n",
       "    </tr>\n",
       "    <tr>\n",
       "      <th>5</th>\n",
       "      <td>Italy</td>\n",
       "      <td>Rome</td>\n",
       "      <td>8.7M</td>\n",
       "      <td>['Pasta,Polenta,Pizza, Risotto']</td>\n",
       "      <td>59.22M</td>\n",
       "      <td>2,074B</td>\n",
       "    </tr>\n",
       "    <tr>\n",
       "      <th>6</th>\n",
       "      <td>Thailand</td>\n",
       "      <td>Phuket</td>\n",
       "      <td>7.2M</td>\n",
       "      <td>['Pad Thai, Tom Yum Goong']</td>\n",
       "      <td>69.31M</td>\n",
       "      <td>505B</td>\n",
       "    </tr>\n",
       "    <tr>\n",
       "      <th>7</th>\n",
       "      <td>Thailand</td>\n",
       "      <td>Pattaya</td>\n",
       "      <td>6.6M</td>\n",
       "      <td>['Pad Thai, Tom Yum Goong']</td>\n",
       "      <td>69.31M</td>\n",
       "      <td>505B</td>\n",
       "    </tr>\n",
       "    <tr>\n",
       "      <th>8</th>\n",
       "      <td>Czech Republic</td>\n",
       "      <td>Prague</td>\n",
       "      <td>6.5M</td>\n",
       "      <td>['roast pork with dumplings and sauerkraut']</td>\n",
       "      <td>10.63M</td>\n",
       "      <td>244B</td>\n",
       "    </tr>\n",
       "    <tr>\n",
       "      <th>9</th>\n",
       "      <td>Spain</td>\n",
       "      <td>Barcelona</td>\n",
       "      <td>5.5M</td>\n",
       "      <td>['Tortilla espa�ola ']</td>\n",
       "      <td>46.44M</td>\n",
       "      <td>1,426B</td>\n",
       "    </tr>\n",
       "  </tbody>\n",
       "</table>\n",
       "</div>"
      ],
      "text/plain": [
       "          Country          City Tourist  \\\n",
       "0       Singapore     Singapore   21.3M   \n",
       "1        Thailand       Bangkok   15.8M   \n",
       "2  United Kingdom        London   15.5M   \n",
       "3        Malaysia  Kuala Lumpur   13.3M   \n",
       "4          France         Paris    9.8M   \n",
       "5           Italy          Rome    8.7M   \n",
       "6        Thailand        Phuket    7.2M   \n",
       "7        Thailand       Pattaya    6.6M   \n",
       "8  Czech Republic        Prague    6.5M   \n",
       "9           Spain     Barcelona    5.5M   \n",
       "\n",
       "                                                Food Population     GDP  \n",
       "0             ['Chilli crab,Hainanese Chicken Rice']      5.87M    364B  \n",
       "1                        ['Pad Thai, Tom Yum Goong']     69.31M    505B  \n",
       "2  ['Bermuda fish chowder', 'Haggis', 'Ulster fry...     66.96M  2,825B  \n",
       "3            ['Nasi lemak,Satay, Laksa, Roti canai']     32.45M    354B  \n",
       "4              ['Cr�pe, Pot-au-feu,Macaron, Bisque']     65.48M  2,778B  \n",
       "5                   ['Pasta,Polenta,Pizza, Risotto']     59.22M  2,074B  \n",
       "6                        ['Pad Thai, Tom Yum Goong']     69.31M    505B  \n",
       "7                        ['Pad Thai, Tom Yum Goong']     69.31M    505B  \n",
       "8       ['roast pork with dumplings and sauerkraut']     10.63M    244B  \n",
       "9                             ['Tortilla espa�ola ']     46.44M  1,426B  "
      ]
     },
     "execution_count": 64,
     "metadata": {},
     "output_type": "execute_result"
    }
   ],
   "source": [
    "df = pd.DataFrame(data, columns=[\"Country\", \"City\", \"Tourist\", \"Food\", \"Population\", \"GDP\"])\n",
    "\n",
    "df['Tourist'] = df['Tourist'].astype('float64')\n",
    "df['Tourist'] = df['Tourist'].map(\"{:,.1f}M\".format)\n",
    "\n",
    "df[\"Population\"]=  df[\"Population\"].astype('int64')/1e6\n",
    "df['Population'] = df['Population'].map(\"{:,.2f}M\".format)\n",
    "\n",
    "df[\"GDP\"]=  df[\"GDP\"].astype('float64')/1e9\n",
    "df['GDP'] = df['GDP'].map(\"{:,.0f}B\".format)\n",
    "\n",
    "df"
   ]
  },
  {
   "cell_type": "code",
   "execution_count": null,
   "metadata": {},
   "outputs": [],
   "source": []
  }
 ],
 "metadata": {
  "kernelspec": {
   "display_name": "Python 3",
   "language": "python",
   "name": "python3"
  },
  "language_info": {
   "codemirror_mode": {
    "name": "ipython",
    "version": 3
   },
   "file_extension": ".py",
   "mimetype": "text/x-python",
   "name": "python",
   "nbconvert_exporter": "python",
   "pygments_lexer": "ipython3",
   "version": "3.7.3"
  }
 },
 "nbformat": 4,
 "nbformat_minor": 2
}
