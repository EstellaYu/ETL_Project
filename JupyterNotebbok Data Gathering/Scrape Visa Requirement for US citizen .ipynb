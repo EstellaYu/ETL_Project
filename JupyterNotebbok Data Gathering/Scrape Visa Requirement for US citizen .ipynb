{
 "cells": [
  {
   "cell_type": "markdown",
   "metadata": {},
   "source": [
    "# Scrape Visa Requirement -- US Citizen"
   ]
  },
  {
   "cell_type": "markdown",
   "metadata": {},
   "source": [
    "## 1. Dependencies"
   ]
  },
  {
   "cell_type": "code",
   "execution_count": 3,
   "metadata": {},
   "outputs": [],
   "source": [
    "import pandas as pd\n",
    "from matplotlib import pyplot as plt\n",
    "\n",
    "from splinter import Browser\n",
    "from bs4 import BeautifulSoup as bs\n",
    "\n",
    "import pymongo"
   ]
  },
  {
   "cell_type": "code",
   "execution_count": 5,
   "metadata": {},
   "outputs": [
    {
     "name": "stdout",
     "output_type": "stream",
     "text": [
      "/usr/local/bin/chromedriver\r\n"
     ]
    }
   ],
   "source": [
    "# get chromedriver location\n",
    "!which chromedriver"
   ]
  },
  {
   "cell_type": "markdown",
   "metadata": {},
   "source": [
    "# 2. Scrap Data"
   ]
  },
  {
   "cell_type": "markdown",
   "metadata": {},
   "source": [
    "## 2.1 Launch Driver"
   ]
  },
  {
   "cell_type": "code",
   "execution_count": 6,
   "metadata": {},
   "outputs": [],
   "source": [
    "# launch chromedriver -- get an empty page\n",
    "executable_path = {'executable_path': '/usr/local/bin/chromedriver'}\n",
    "browser = Browser('chrome', **executable_path, headless=False)"
   ]
  },
  {
   "cell_type": "markdown",
   "metadata": {},
   "source": [
    "## 2.2 Scrape Wiki Page"
   ]
  },
  {
   "cell_type": "code",
   "execution_count": 7,
   "metadata": {},
   "outputs": [],
   "source": [
    "url = \"https://en.wikipedia.org/wiki/Visa_requirements_for_United_States_citizens\"\n",
    "browser.visit(url)"
   ]
  },
  {
   "cell_type": "code",
   "execution_count": 94,
   "metadata": {},
   "outputs": [],
   "source": [
    "tables = pd.read_html(browser.html)\n",
    "visa_df = tables[0]"
   ]
  },
  {
   "cell_type": "code",
   "execution_count": 95,
   "metadata": {},
   "outputs": [
    {
     "data": {
      "text/html": [
       "<div>\n",
       "<style scoped>\n",
       "    .dataframe tbody tr th:only-of-type {\n",
       "        vertical-align: middle;\n",
       "    }\n",
       "\n",
       "    .dataframe tbody tr th {\n",
       "        vertical-align: top;\n",
       "    }\n",
       "\n",
       "    .dataframe thead th {\n",
       "        text-align: right;\n",
       "    }\n",
       "</style>\n",
       "<table border=\"1\" class=\"dataframe\">\n",
       "  <thead>\n",
       "    <tr style=\"text-align: right;\">\n",
       "      <th></th>\n",
       "      <th>country</th>\n",
       "      <th>visa_requirement</th>\n",
       "      <th>notes</th>\n",
       "    </tr>\n",
       "  </thead>\n",
       "  <tbody>\n",
       "    <tr>\n",
       "      <th>0</th>\n",
       "      <td>Afghanistan</td>\n",
       "      <td>Visa required[2][3]</td>\n",
       "      <td>Visitors born in Afghanistan do not require a ...</td>\n",
       "    </tr>\n",
       "    <tr>\n",
       "      <th>1</th>\n",
       "      <td>Albania</td>\n",
       "      <td>Visa not required[5][6]</td>\n",
       "      <td>NaN</td>\n",
       "    </tr>\n",
       "    <tr>\n",
       "      <th>2</th>\n",
       "      <td>Algeria</td>\n",
       "      <td>Visa required[8][9]</td>\n",
       "      <td>Persons may be denied entry if entering with a...</td>\n",
       "    </tr>\n",
       "    <tr>\n",
       "      <th>3</th>\n",
       "      <td>Andorra</td>\n",
       "      <td>Visa not required[10]</td>\n",
       "      <td>NaN</td>\n",
       "    </tr>\n",
       "    <tr>\n",
       "      <th>4</th>\n",
       "      <td>Angola</td>\n",
       "      <td>eVisa[13][14][15]</td>\n",
       "      <td>Visitors who have been granted an online pre-v...</td>\n",
       "    </tr>\n",
       "  </tbody>\n",
       "</table>\n",
       "</div>"
      ],
      "text/plain": [
       "       country         visa_requirement  \\\n",
       "0  Afghanistan      Visa required[2][3]   \n",
       "1      Albania  Visa not required[5][6]   \n",
       "2      Algeria      Visa required[8][9]   \n",
       "3      Andorra    Visa not required[10]   \n",
       "4       Angola        eVisa[13][14][15]   \n",
       "\n",
       "                                               notes  \n",
       "0  Visitors born in Afghanistan do not require a ...  \n",
       "1                                                NaN  \n",
       "2  Persons may be denied entry if entering with a...  \n",
       "3                                                NaN  \n",
       "4  Visitors who have been granted an online pre-v...  "
      ]
     },
     "execution_count": 95,
     "metadata": {},
     "output_type": "execute_result"
    }
   ],
   "source": [
    "# drop the unnecesary cols\n",
    "col_to_drop = ['Allowed stay']\n",
    "visa_df.drop(col_to_drop, axis = 1, inplace = True)\n",
    "\n",
    "# rename cols\n",
    "visa_df.rename(columns={'Country':'country',\n",
    "                        \"Visa requirement\":'visa_requirement',\n",
    "                        \"Notes (excluding departure fees)\":'notes'},\n",
    "              inplace = True)\n",
    "visa_df.head()"
   ]
  },
  {
   "cell_type": "code",
   "execution_count": 96,
   "metadata": {},
   "outputs": [],
   "source": [
    "# clean up the citation marks\n",
    "for i in range(len(visa_df)):\n",
    "    visa_df.iloc[i,1] = visa_df.iloc[i,1].split('[')[0]"
   ]
  },
  {
   "cell_type": "code",
   "execution_count": 97,
   "metadata": {},
   "outputs": [
    {
     "data": {
      "text/plain": [
       "Visa not required                  107\n",
       "Visa required                       30\n",
       "Visa on arrival                     19\n",
       "eVisa / Visa on arrival             18\n",
       "eVisa                               11\n",
       "Travel restricted                    1\n",
       "Entry Permit on arrival              1\n",
       "Visitor's Permit on arrival          1\n",
       "Visitor's permit on arrival          1\n",
       "eVisa / Tourist card on arrival      1\n",
       "Tourist Card required                1\n",
       "Electronic Travel Authority          1\n",
       "Online Visa                          1\n",
       "Name: visa_requirement, dtype: int64"
      ]
     },
     "execution_count": 97,
     "metadata": {},
     "output_type": "execute_result"
    }
   ],
   "source": [
    "visa_df['visa_requirement'].value_counts()"
   ]
  },
  {
   "cell_type": "code",
   "execution_count": 98,
   "metadata": {},
   "outputs": [],
   "source": [
    "auto_visa_key_words = [\"on arrival\", 'eVisa', 'Electronic', 'Online']\n",
    "restrict_list = [\"Tourist Card required\", \"Travel restricted\"]\n",
    "\n",
    "for i in range(len(visa_df)):\n",
    "    for word in auto_visa_key_words:\n",
    "        if word in visa_df['visa_requirement'][i]:\n",
    "            visa_df['visa_requirement'][i] = \"eVisa/Visa on arrival\"\n",
    "            continue\n",
    "    if visa_df['visa_requirement'][i] in restrict_list:\n",
    "        visa_df['visa_requirement'][i] = \"Travel restricted\""
   ]
  },
  {
   "cell_type": "code",
   "execution_count": 99,
   "metadata": {},
   "outputs": [
    {
     "data": {
      "text/plain": [
       "Visa not required        107\n",
       "eVisa/Visa on arrival     54\n",
       "Visa required             30\n",
       "Travel restricted          2\n",
       "Name: visa_requirement, dtype: int64"
      ]
     },
     "execution_count": 99,
     "metadata": {},
     "output_type": "execute_result"
    }
   ],
   "source": [
    "visa_df['visa_requirement'].value_counts()"
   ]
  },
  {
   "cell_type": "code",
   "execution_count": 87,
   "metadata": {},
   "outputs": [
    {
     "data": {
      "text/html": [
       "<div>\n",
       "<style scoped>\n",
       "    .dataframe tbody tr th:only-of-type {\n",
       "        vertical-align: middle;\n",
       "    }\n",
       "\n",
       "    .dataframe tbody tr th {\n",
       "        vertical-align: top;\n",
       "    }\n",
       "\n",
       "    .dataframe thead th {\n",
       "        text-align: right;\n",
       "    }\n",
       "</style>\n",
       "<table border=\"1\" class=\"dataframe\">\n",
       "  <thead>\n",
       "    <tr style=\"text-align: right;\">\n",
       "      <th></th>\n",
       "      <th>country</th>\n",
       "      <th>visa_requirement</th>\n",
       "      <th>notes</th>\n",
       "    </tr>\n",
       "  </thead>\n",
       "  <tbody>\n",
       "    <tr>\n",
       "      <th>0</th>\n",
       "      <td>Afghanistan</td>\n",
       "      <td>Visa required</td>\n",
       "      <td>Visitors born in Afghanistan do not require a ...</td>\n",
       "    </tr>\n",
       "    <tr>\n",
       "      <th>1</th>\n",
       "      <td>Albania</td>\n",
       "      <td>Visa not required</td>\n",
       "      <td>NaN</td>\n",
       "    </tr>\n",
       "    <tr>\n",
       "      <th>2</th>\n",
       "      <td>Algeria</td>\n",
       "      <td>Visa required</td>\n",
       "      <td>Persons may be denied entry if entering with a...</td>\n",
       "    </tr>\n",
       "    <tr>\n",
       "      <th>3</th>\n",
       "      <td>Andorra</td>\n",
       "      <td>Visa not required</td>\n",
       "      <td>NaN</td>\n",
       "    </tr>\n",
       "    <tr>\n",
       "      <th>4</th>\n",
       "      <td>Angola</td>\n",
       "      <td>eVisa/Visa on arrival</td>\n",
       "      <td>Visitors who have been granted an online pre-v...</td>\n",
       "    </tr>\n",
       "  </tbody>\n",
       "</table>\n",
       "</div>"
      ],
      "text/plain": [
       "       country       visa_requirement  \\\n",
       "0  Afghanistan          Visa required   \n",
       "1      Albania      Visa not required   \n",
       "2      Algeria          Visa required   \n",
       "3      Andorra      Visa not required   \n",
       "4       Angola  eVisa/Visa on arrival   \n",
       "\n",
       "                                               notes  \n",
       "0  Visitors born in Afghanistan do not require a ...  \n",
       "1                                                NaN  \n",
       "2  Persons may be denied entry if entering with a...  \n",
       "3                                                NaN  \n",
       "4  Visitors who have been granted an online pre-v...  "
      ]
     },
     "execution_count": 87,
     "metadata": {},
     "output_type": "execute_result"
    }
   ],
   "source": [
    "visa_df.head()"
   ]
  },
  {
   "cell_type": "code",
   "execution_count": null,
   "metadata": {},
   "outputs": [],
   "source": []
  }
 ],
 "metadata": {
  "kernelspec": {
   "display_name": "Python 3",
   "language": "python",
   "name": "python3"
  },
  "language_info": {
   "codemirror_mode": {
    "name": "ipython",
    "version": 3
   },
   "file_extension": ".py",
   "mimetype": "text/x-python",
   "name": "python",
   "nbconvert_exporter": "python",
   "pygments_lexer": "ipython3",
   "version": "3.7.3"
  }
 },
 "nbformat": 4,
 "nbformat_minor": 2
}
